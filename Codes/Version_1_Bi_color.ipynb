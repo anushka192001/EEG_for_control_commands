{
 "cells": [
  {
   "cell_type": "code",
   "execution_count": 1,
   "id": "9669a07f",
   "metadata": {},
   "outputs": [],
   "source": [
    "import pandas as pd\n",
    "import numpy as np\n",
    "import matplotlib.pyplot as plt\n",
    "\n",
    "# S = (4500000)/24/(2**23-1) #uV/count"
   ]
  },
  {
   "cell_type": "code",
   "execution_count": 2,
   "id": "736f14df",
   "metadata": {},
   "outputs": [],
   "source": [
    "df_1 = pd.read_csv('Data/data_1/trial_1.txt', header=4)\n",
    "events_df_1 = pd.read_csv('Data/data_1/event_1.txt', header=None)"
   ]
  },
  {
   "cell_type": "code",
   "execution_count": 3,
   "id": "0f908441",
   "metadata": {},
   "outputs": [
    {
     "data": {
      "text/html": [
       "<div>\n",
       "<style scoped>\n",
       "    .dataframe tbody tr th:only-of-type {\n",
       "        vertical-align: middle;\n",
       "    }\n",
       "\n",
       "    .dataframe tbody tr th {\n",
       "        vertical-align: top;\n",
       "    }\n",
       "\n",
       "    .dataframe thead th {\n",
       "        text-align: right;\n",
       "    }\n",
       "</style>\n",
       "<table border=\"1\" class=\"dataframe\">\n",
       "  <thead>\n",
       "    <tr style=\"text-align: right;\">\n",
       "      <th></th>\n",
       "      <th>Sample Index</th>\n",
       "      <th>EXG Channel 0</th>\n",
       "      <th>EXG Channel 1</th>\n",
       "      <th>EXG Channel 2</th>\n",
       "      <th>EXG Channel 3</th>\n",
       "      <th>EXG Channel 4</th>\n",
       "      <th>EXG Channel 5</th>\n",
       "      <th>EXG Channel 6</th>\n",
       "      <th>EXG Channel 7</th>\n",
       "      <th>Accel Channel 0</th>\n",
       "      <th>...</th>\n",
       "      <th>Other.3</th>\n",
       "      <th>Other.4</th>\n",
       "      <th>Other.5</th>\n",
       "      <th>Other.6</th>\n",
       "      <th>Analog Channel 0</th>\n",
       "      <th>Analog Channel 1</th>\n",
       "      <th>Analog Channel 2</th>\n",
       "      <th>Timestamp</th>\n",
       "      <th>Other.7</th>\n",
       "      <th>Timestamp (Formatted)</th>\n",
       "    </tr>\n",
       "  </thead>\n",
       "  <tbody>\n",
       "    <tr>\n",
       "      <th>0</th>\n",
       "      <td>0.0</td>\n",
       "      <td>0.000000</td>\n",
       "      <td>0.000000</td>\n",
       "      <td>0.000000</td>\n",
       "      <td>0.000000</td>\n",
       "      <td>0.000000</td>\n",
       "      <td>0.000000</td>\n",
       "      <td>0.000000</td>\n",
       "      <td>0.000000</td>\n",
       "      <td>0.000</td>\n",
       "      <td>...</td>\n",
       "      <td>0.0</td>\n",
       "      <td>0.0</td>\n",
       "      <td>0.0</td>\n",
       "      <td>0.0</td>\n",
       "      <td>0.0</td>\n",
       "      <td>0.0</td>\n",
       "      <td>0.0</td>\n",
       "      <td>1.673700e+09</td>\n",
       "      <td>0.0</td>\n",
       "      <td>2023-01-14 18:08:15.339</td>\n",
       "    </tr>\n",
       "    <tr>\n",
       "      <th>1</th>\n",
       "      <td>1.0</td>\n",
       "      <td>-170136.427300</td>\n",
       "      <td>-171586.966108</td>\n",
       "      <td>-138593.913745</td>\n",
       "      <td>-156768.161865</td>\n",
       "      <td>-144418.465426</td>\n",
       "      <td>-133906.484712</td>\n",
       "      <td>-156130.198375</td>\n",
       "      <td>-448982.396601</td>\n",
       "      <td>-0.140</td>\n",
       "      <td>...</td>\n",
       "      <td>224.0</td>\n",
       "      <td>128.0</td>\n",
       "      <td>2.0</td>\n",
       "      <td>208.0</td>\n",
       "      <td>0.0</td>\n",
       "      <td>0.0</td>\n",
       "      <td>0.0</td>\n",
       "      <td>1.673700e+09</td>\n",
       "      <td>0.0</td>\n",
       "      <td>2023-01-14 18:08:15.355</td>\n",
       "    </tr>\n",
       "    <tr>\n",
       "      <th>2</th>\n",
       "      <td>2.0</td>\n",
       "      <td>-169766.684743</td>\n",
       "      <td>-171218.296435</td>\n",
       "      <td>-139538.721983</td>\n",
       "      <td>-156460.244234</td>\n",
       "      <td>-144747.974843</td>\n",
       "      <td>-134101.883662</td>\n",
       "      <td>-156261.894853</td>\n",
       "      <td>-448956.379170</td>\n",
       "      <td>-0.140</td>\n",
       "      <td>...</td>\n",
       "      <td>0.0</td>\n",
       "      <td>0.0</td>\n",
       "      <td>0.0</td>\n",
       "      <td>0.0</td>\n",
       "      <td>0.0</td>\n",
       "      <td>0.0</td>\n",
       "      <td>0.0</td>\n",
       "      <td>1.673700e+09</td>\n",
       "      <td>0.0</td>\n",
       "      <td>2023-01-14 18:08:15.358</td>\n",
       "    </tr>\n",
       "    <tr>\n",
       "      <th>3</th>\n",
       "      <td>3.0</td>\n",
       "      <td>-169483.041106</td>\n",
       "      <td>-170935.055129</td>\n",
       "      <td>-140971.289989</td>\n",
       "      <td>-156202.081585</td>\n",
       "      <td>-145293.402111</td>\n",
       "      <td>-134372.384473</td>\n",
       "      <td>-156367.573901</td>\n",
       "      <td>-449224.331883</td>\n",
       "      <td>-0.140</td>\n",
       "      <td>...</td>\n",
       "      <td>0.0</td>\n",
       "      <td>0.0</td>\n",
       "      <td>0.0</td>\n",
       "      <td>0.0</td>\n",
       "      <td>0.0</td>\n",
       "      <td>0.0</td>\n",
       "      <td>0.0</td>\n",
       "      <td>1.673700e+09</td>\n",
       "      <td>0.0</td>\n",
       "      <td>2023-01-14 18:08:15.362</td>\n",
       "    </tr>\n",
       "    <tr>\n",
       "      <th>4</th>\n",
       "      <td>4.0</td>\n",
       "      <td>-169704.457486</td>\n",
       "      <td>-171155.398626</td>\n",
       "      <td>-140885.325180</td>\n",
       "      <td>-156381.789611</td>\n",
       "      <td>-145292.195117</td>\n",
       "      <td>-134245.113640</td>\n",
       "      <td>-156289.655720</td>\n",
       "      <td>-448931.702844</td>\n",
       "      <td>-0.140</td>\n",
       "      <td>...</td>\n",
       "      <td>0.0</td>\n",
       "      <td>0.0</td>\n",
       "      <td>0.0</td>\n",
       "      <td>0.0</td>\n",
       "      <td>0.0</td>\n",
       "      <td>0.0</td>\n",
       "      <td>0.0</td>\n",
       "      <td>1.673700e+09</td>\n",
       "      <td>0.0</td>\n",
       "      <td>2023-01-14 18:08:15.367</td>\n",
       "    </tr>\n",
       "    <tr>\n",
       "      <th>...</th>\n",
       "      <td>...</td>\n",
       "      <td>...</td>\n",
       "      <td>...</td>\n",
       "      <td>...</td>\n",
       "      <td>...</td>\n",
       "      <td>...</td>\n",
       "      <td>...</td>\n",
       "      <td>...</td>\n",
       "      <td>...</td>\n",
       "      <td>...</td>\n",
       "      <td>...</td>\n",
       "      <td>...</td>\n",
       "      <td>...</td>\n",
       "      <td>...</td>\n",
       "      <td>...</td>\n",
       "      <td>...</td>\n",
       "      <td>...</td>\n",
       "      <td>...</td>\n",
       "      <td>...</td>\n",
       "      <td>...</td>\n",
       "      <td>...</td>\n",
       "    </tr>\n",
       "    <tr>\n",
       "      <th>108577</th>\n",
       "      <td>33.0</td>\n",
       "      <td>-153411.242772</td>\n",
       "      <td>-151025.283459</td>\n",
       "      <td>-124695.777857</td>\n",
       "      <td>-144253.241331</td>\n",
       "      <td>-123686.328374</td>\n",
       "      <td>-116255.803854</td>\n",
       "      <td>-122220.098641</td>\n",
       "      <td>-247183.158658</td>\n",
       "      <td>-0.056</td>\n",
       "      <td>...</td>\n",
       "      <td>0.0</td>\n",
       "      <td>0.0</td>\n",
       "      <td>0.0</td>\n",
       "      <td>0.0</td>\n",
       "      <td>0.0</td>\n",
       "      <td>0.0</td>\n",
       "      <td>0.0</td>\n",
       "      <td>1.673700e+09</td>\n",
       "      <td>0.0</td>\n",
       "      <td>2023-01-14 18:15:28.967</td>\n",
       "    </tr>\n",
       "    <tr>\n",
       "      <th>108578</th>\n",
       "      <td>34.0</td>\n",
       "      <td>-153124.916926</td>\n",
       "      <td>-150738.018839</td>\n",
       "      <td>-125831.291179</td>\n",
       "      <td>-143995.212793</td>\n",
       "      <td>-124381.557033</td>\n",
       "      <td>-116842.000704</td>\n",
       "      <td>-122482.955156</td>\n",
       "      <td>-247969.850656</td>\n",
       "      <td>-0.056</td>\n",
       "      <td>...</td>\n",
       "      <td>0.0</td>\n",
       "      <td>0.0</td>\n",
       "      <td>0.0</td>\n",
       "      <td>0.0</td>\n",
       "      <td>0.0</td>\n",
       "      <td>0.0</td>\n",
       "      <td>0.0</td>\n",
       "      <td>1.673700e+09</td>\n",
       "      <td>0.0</td>\n",
       "      <td>2023-01-14 18:15:28.969</td>\n",
       "    </tr>\n",
       "    <tr>\n",
       "      <th>108579</th>\n",
       "      <td>35.0</td>\n",
       "      <td>-152980.614064</td>\n",
       "      <td>-150592.508983</td>\n",
       "      <td>-126731.977073</td>\n",
       "      <td>-143857.615454</td>\n",
       "      <td>-125117.287054</td>\n",
       "      <td>-117352.827472</td>\n",
       "      <td>-122661.858518</td>\n",
       "      <td>-248913.854231</td>\n",
       "      <td>-0.056</td>\n",
       "      <td>...</td>\n",
       "      <td>0.0</td>\n",
       "      <td>0.0</td>\n",
       "      <td>0.0</td>\n",
       "      <td>0.0</td>\n",
       "      <td>0.0</td>\n",
       "      <td>0.0</td>\n",
       "      <td>0.0</td>\n",
       "      <td>1.673700e+09</td>\n",
       "      <td>0.0</td>\n",
       "      <td>2023-01-14 18:15:28.973</td>\n",
       "    </tr>\n",
       "    <tr>\n",
       "      <th>108580</th>\n",
       "      <td>36.0</td>\n",
       "      <td>-153185.937188</td>\n",
       "      <td>-150804.001189</td>\n",
       "      <td>-126105.144752</td>\n",
       "      <td>-144034.238939</td>\n",
       "      <td>-124833.911638</td>\n",
       "      <td>-117050.274259</td>\n",
       "      <td>-122473.567423</td>\n",
       "      <td>-248680.502019</td>\n",
       "      <td>-0.056</td>\n",
       "      <td>...</td>\n",
       "      <td>0.0</td>\n",
       "      <td>0.0</td>\n",
       "      <td>0.0</td>\n",
       "      <td>0.0</td>\n",
       "      <td>0.0</td>\n",
       "      <td>0.0</td>\n",
       "      <td>0.0</td>\n",
       "      <td>1.673700e+09</td>\n",
       "      <td>0.0</td>\n",
       "      <td>2023-01-14 18:15:28.977</td>\n",
       "    </tr>\n",
       "    <tr>\n",
       "      <th>108581</th>\n",
       "      <td>37.0</td>\n",
       "      <td>-153440.612965</td>\n",
       "      <td>-151066.589483</td>\n",
       "      <td>-124928.727738</td>\n",
       "      <td>-144268.932255</td>\n",
       "      <td>-124010.607482</td>\n",
       "      <td>-116435.243658</td>\n",
       "      <td>-122207.894588</td>\n",
       "      <td>-247727.647153</td>\n",
       "      <td>-0.056</td>\n",
       "      <td>...</td>\n",
       "      <td>0.0</td>\n",
       "      <td>0.0</td>\n",
       "      <td>0.0</td>\n",
       "      <td>0.0</td>\n",
       "      <td>0.0</td>\n",
       "      <td>0.0</td>\n",
       "      <td>0.0</td>\n",
       "      <td>1.673700e+09</td>\n",
       "      <td>0.0</td>\n",
       "      <td>2023-01-14 18:15:28.982</td>\n",
       "    </tr>\n",
       "  </tbody>\n",
       "</table>\n",
       "<p>108582 rows × 25 columns</p>\n",
       "</div>"
      ],
      "text/plain": [
       "        Sample Index   EXG Channel 0   EXG Channel 1   EXG Channel 2  \\\n",
       "0                0.0        0.000000        0.000000        0.000000   \n",
       "1                1.0  -170136.427300  -171586.966108  -138593.913745   \n",
       "2                2.0  -169766.684743  -171218.296435  -139538.721983   \n",
       "3                3.0  -169483.041106  -170935.055129  -140971.289989   \n",
       "4                4.0  -169704.457486  -171155.398626  -140885.325180   \n",
       "...              ...             ...             ...             ...   \n",
       "108577          33.0  -153411.242772  -151025.283459  -124695.777857   \n",
       "108578          34.0  -153124.916926  -150738.018839  -125831.291179   \n",
       "108579          35.0  -152980.614064  -150592.508983  -126731.977073   \n",
       "108580          36.0  -153185.937188  -150804.001189  -126105.144752   \n",
       "108581          37.0  -153440.612965  -151066.589483  -124928.727738   \n",
       "\n",
       "         EXG Channel 3   EXG Channel 4   EXG Channel 5   EXG Channel 6  \\\n",
       "0             0.000000        0.000000        0.000000        0.000000   \n",
       "1       -156768.161865  -144418.465426  -133906.484712  -156130.198375   \n",
       "2       -156460.244234  -144747.974843  -134101.883662  -156261.894853   \n",
       "3       -156202.081585  -145293.402111  -134372.384473  -156367.573901   \n",
       "4       -156381.789611  -145292.195117  -134245.113640  -156289.655720   \n",
       "...                ...             ...             ...             ...   \n",
       "108577  -144253.241331  -123686.328374  -116255.803854  -122220.098641   \n",
       "108578  -143995.212793  -124381.557033  -116842.000704  -122482.955156   \n",
       "108579  -143857.615454  -125117.287054  -117352.827472  -122661.858518   \n",
       "108580  -144034.238939  -124833.911638  -117050.274259  -122473.567423   \n",
       "108581  -144268.932255  -124010.607482  -116435.243658  -122207.894588   \n",
       "\n",
       "         EXG Channel 7   Accel Channel 0  ...   Other.3   Other.4   Other.5  \\\n",
       "0             0.000000             0.000  ...       0.0       0.0       0.0   \n",
       "1       -448982.396601            -0.140  ...     224.0     128.0       2.0   \n",
       "2       -448956.379170            -0.140  ...       0.0       0.0       0.0   \n",
       "3       -449224.331883            -0.140  ...       0.0       0.0       0.0   \n",
       "4       -448931.702844            -0.140  ...       0.0       0.0       0.0   \n",
       "...                ...               ...  ...       ...       ...       ...   \n",
       "108577  -247183.158658            -0.056  ...       0.0       0.0       0.0   \n",
       "108578  -247969.850656            -0.056  ...       0.0       0.0       0.0   \n",
       "108579  -248913.854231            -0.056  ...       0.0       0.0       0.0   \n",
       "108580  -248680.502019            -0.056  ...       0.0       0.0       0.0   \n",
       "108581  -247727.647153            -0.056  ...       0.0       0.0       0.0   \n",
       "\n",
       "         Other.6   Analog Channel 0   Analog Channel 1   Analog Channel 2  \\\n",
       "0            0.0                0.0                0.0                0.0   \n",
       "1          208.0                0.0                0.0                0.0   \n",
       "2            0.0                0.0                0.0                0.0   \n",
       "3            0.0                0.0                0.0                0.0   \n",
       "4            0.0                0.0                0.0                0.0   \n",
       "...          ...                ...                ...                ...   \n",
       "108577       0.0                0.0                0.0                0.0   \n",
       "108578       0.0                0.0                0.0                0.0   \n",
       "108579       0.0                0.0                0.0                0.0   \n",
       "108580       0.0                0.0                0.0                0.0   \n",
       "108581       0.0                0.0                0.0                0.0   \n",
       "\n",
       "           Timestamp   Other.7     Timestamp (Formatted)  \n",
       "0       1.673700e+09       0.0   2023-01-14 18:08:15.339  \n",
       "1       1.673700e+09       0.0   2023-01-14 18:08:15.355  \n",
       "2       1.673700e+09       0.0   2023-01-14 18:08:15.358  \n",
       "3       1.673700e+09       0.0   2023-01-14 18:08:15.362  \n",
       "4       1.673700e+09       0.0   2023-01-14 18:08:15.367  \n",
       "...              ...       ...                       ...  \n",
       "108577  1.673700e+09       0.0   2023-01-14 18:15:28.967  \n",
       "108578  1.673700e+09       0.0   2023-01-14 18:15:28.969  \n",
       "108579  1.673700e+09       0.0   2023-01-14 18:15:28.973  \n",
       "108580  1.673700e+09       0.0   2023-01-14 18:15:28.977  \n",
       "108581  1.673700e+09       0.0   2023-01-14 18:15:28.982  \n",
       "\n",
       "[108582 rows x 25 columns]"
      ]
     },
     "execution_count": 3,
     "metadata": {},
     "output_type": "execute_result"
    }
   ],
   "source": [
    "df_1"
   ]
  },
  {
   "cell_type": "code",
   "execution_count": 4,
   "id": "d2ad253e",
   "metadata": {},
   "outputs": [
    {
     "data": {
      "text/html": [
       "<div>\n",
       "<style scoped>\n",
       "    .dataframe tbody tr th:only-of-type {\n",
       "        vertical-align: middle;\n",
       "    }\n",
       "\n",
       "    .dataframe tbody tr th {\n",
       "        vertical-align: top;\n",
       "    }\n",
       "\n",
       "    .dataframe thead th {\n",
       "        text-align: right;\n",
       "    }\n",
       "</style>\n",
       "<table border=\"1\" class=\"dataframe\">\n",
       "  <thead>\n",
       "    <tr style=\"text-align: right;\">\n",
       "      <th></th>\n",
       "      <th>0</th>\n",
       "      <th>1</th>\n",
       "    </tr>\n",
       "  </thead>\n",
       "  <tbody>\n",
       "    <tr>\n",
       "      <th>0</th>\n",
       "      <td>1.673700e+09</td>\n",
       "      <td>start</td>\n",
       "    </tr>\n",
       "    <tr>\n",
       "      <th>1</th>\n",
       "      <td>1.673700e+09</td>\n",
       "      <td>baseline</td>\n",
       "    </tr>\n",
       "    <tr>\n",
       "      <th>2</th>\n",
       "      <td>1.673700e+09</td>\n",
       "      <td>red</td>\n",
       "    </tr>\n",
       "    <tr>\n",
       "      <th>3</th>\n",
       "      <td>1.673700e+09</td>\n",
       "      <td>fixation</td>\n",
       "    </tr>\n",
       "    <tr>\n",
       "      <th>4</th>\n",
       "      <td>1.673700e+09</td>\n",
       "      <td>red</td>\n",
       "    </tr>\n",
       "    <tr>\n",
       "      <th>...</th>\n",
       "      <td>...</td>\n",
       "      <td>...</td>\n",
       "    </tr>\n",
       "    <tr>\n",
       "      <th>97</th>\n",
       "      <td>1.673700e+09</td>\n",
       "      <td>fixation</td>\n",
       "    </tr>\n",
       "    <tr>\n",
       "      <th>98</th>\n",
       "      <td>1.673700e+09</td>\n",
       "      <td>red</td>\n",
       "    </tr>\n",
       "    <tr>\n",
       "      <th>99</th>\n",
       "      <td>1.673700e+09</td>\n",
       "      <td>fixation</td>\n",
       "    </tr>\n",
       "    <tr>\n",
       "      <th>100</th>\n",
       "      <td>1.673700e+09</td>\n",
       "      <td>white</td>\n",
       "    </tr>\n",
       "    <tr>\n",
       "      <th>101</th>\n",
       "      <td>1.673700e+09</td>\n",
       "      <td>fixation</td>\n",
       "    </tr>\n",
       "  </tbody>\n",
       "</table>\n",
       "<p>102 rows × 2 columns</p>\n",
       "</div>"
      ],
      "text/plain": [
       "                0         1\n",
       "0    1.673700e+09     start\n",
       "1    1.673700e+09  baseline\n",
       "2    1.673700e+09       red\n",
       "3    1.673700e+09  fixation\n",
       "4    1.673700e+09       red\n",
       "..            ...       ...\n",
       "97   1.673700e+09  fixation\n",
       "98   1.673700e+09       red\n",
       "99   1.673700e+09  fixation\n",
       "100  1.673700e+09     white\n",
       "101  1.673700e+09  fixation\n",
       "\n",
       "[102 rows x 2 columns]"
      ]
     },
     "execution_count": 4,
     "metadata": {},
     "output_type": "execute_result"
    }
   ],
   "source": [
    "events_df_1"
   ]
  },
  {
   "cell_type": "code",
   "execution_count": 5,
   "id": "9bc044dd",
   "metadata": {},
   "outputs": [
    {
     "data": {
      "text/plain": [
       "Index(['Sample Index', ' EXG Channel 0', ' EXG Channel 1', ' EXG Channel 2',\n",
       "       ' EXG Channel 3', ' EXG Channel 4', ' EXG Channel 5', ' EXG Channel 6',\n",
       "       ' EXG Channel 7', ' Accel Channel 0', ' Accel Channel 1',\n",
       "       ' Accel Channel 2', ' Other', ' Other.1', ' Other.2', ' Other.3',\n",
       "       ' Other.4', ' Other.5', ' Other.6', ' Analog Channel 0',\n",
       "       ' Analog Channel 1', ' Analog Channel 2', ' Timestamp', ' Other.7',\n",
       "       ' Timestamp (Formatted)'],\n",
       "      dtype='object')"
      ]
     },
     "execution_count": 5,
     "metadata": {},
     "output_type": "execute_result"
    }
   ],
   "source": [
    "df_1.columns"
   ]
  },
  {
   "cell_type": "code",
   "execution_count": 6,
   "id": "53f9b5da",
   "metadata": {},
   "outputs": [],
   "source": [
    "df_1 = df_1[[' EXG Channel 0', ' EXG Channel 1', ' EXG Channel 2', ' EXG Channel 3', ' EXG Channel 4', ' EXG Channel 5', ' EXG Channel 6', ' EXG Channel 7', ' Timestamp']]"
   ]
  },
  {
   "cell_type": "code",
   "execution_count": 7,
   "id": "c0f3b13c",
   "metadata": {},
   "outputs": [
    {
     "data": {
      "text/plain": [
       "Index([' EXG Channel 0', ' EXG Channel 1', ' EXG Channel 2', ' EXG Channel 3',\n",
       "       ' EXG Channel 4', ' EXG Channel 5', ' EXG Channel 6', ' EXG Channel 7',\n",
       "       ' Timestamp'],\n",
       "      dtype='object')"
      ]
     },
     "execution_count": 7,
     "metadata": {},
     "output_type": "execute_result"
    }
   ],
   "source": [
    "df_1.columns"
   ]
  },
  {
   "cell_type": "code",
   "execution_count": 8,
   "id": "9e7007f5",
   "metadata": {},
   "outputs": [],
   "source": [
    "df_1 = df_1.rename(columns={\" EXG Channel 0\":\"Fp1\", \" EXG Channel 1\":\"Fp2\", \" EXG Channel 2\":\"C3\", \" EXG Channel 3\":\"C4\", \" EXG Channel 4\":\"P3\", \" EXG Channel 5\":\"P4\", \" EXG Channel 6\":\"O1\", \" EXG Channel 7\":\"O2\"})"
   ]
  },
  {
   "cell_type": "code",
   "execution_count": 9,
   "id": "f8aec404",
   "metadata": {},
   "outputs": [
    {
     "data": {
      "text/html": [
       "<div>\n",
       "<style scoped>\n",
       "    .dataframe tbody tr th:only-of-type {\n",
       "        vertical-align: middle;\n",
       "    }\n",
       "\n",
       "    .dataframe tbody tr th {\n",
       "        vertical-align: top;\n",
       "    }\n",
       "\n",
       "    .dataframe thead th {\n",
       "        text-align: right;\n",
       "    }\n",
       "</style>\n",
       "<table border=\"1\" class=\"dataframe\">\n",
       "  <thead>\n",
       "    <tr style=\"text-align: right;\">\n",
       "      <th></th>\n",
       "      <th>Fp1</th>\n",
       "      <th>Fp2</th>\n",
       "      <th>C3</th>\n",
       "      <th>C4</th>\n",
       "      <th>P3</th>\n",
       "      <th>P4</th>\n",
       "      <th>O1</th>\n",
       "      <th>O2</th>\n",
       "      <th>Timestamp</th>\n",
       "    </tr>\n",
       "  </thead>\n",
       "  <tbody>\n",
       "    <tr>\n",
       "      <th>0</th>\n",
       "      <td>0.000000</td>\n",
       "      <td>0.000000</td>\n",
       "      <td>0.000000</td>\n",
       "      <td>0.000000</td>\n",
       "      <td>0.000000</td>\n",
       "      <td>0.000000</td>\n",
       "      <td>0.000000</td>\n",
       "      <td>0.000000</td>\n",
       "      <td>1.673700e+09</td>\n",
       "    </tr>\n",
       "    <tr>\n",
       "      <th>1</th>\n",
       "      <td>-170136.427300</td>\n",
       "      <td>-171586.966108</td>\n",
       "      <td>-138593.913745</td>\n",
       "      <td>-156768.161865</td>\n",
       "      <td>-144418.465426</td>\n",
       "      <td>-133906.484712</td>\n",
       "      <td>-156130.198375</td>\n",
       "      <td>-448982.396601</td>\n",
       "      <td>1.673700e+09</td>\n",
       "    </tr>\n",
       "    <tr>\n",
       "      <th>2</th>\n",
       "      <td>-169766.684743</td>\n",
       "      <td>-171218.296435</td>\n",
       "      <td>-139538.721983</td>\n",
       "      <td>-156460.244234</td>\n",
       "      <td>-144747.974843</td>\n",
       "      <td>-134101.883662</td>\n",
       "      <td>-156261.894853</td>\n",
       "      <td>-448956.379170</td>\n",
       "      <td>1.673700e+09</td>\n",
       "    </tr>\n",
       "    <tr>\n",
       "      <th>3</th>\n",
       "      <td>-169483.041106</td>\n",
       "      <td>-170935.055129</td>\n",
       "      <td>-140971.289989</td>\n",
       "      <td>-156202.081585</td>\n",
       "      <td>-145293.402111</td>\n",
       "      <td>-134372.384473</td>\n",
       "      <td>-156367.573901</td>\n",
       "      <td>-449224.331883</td>\n",
       "      <td>1.673700e+09</td>\n",
       "    </tr>\n",
       "    <tr>\n",
       "      <th>4</th>\n",
       "      <td>-169704.457486</td>\n",
       "      <td>-171155.398626</td>\n",
       "      <td>-140885.325180</td>\n",
       "      <td>-156381.789611</td>\n",
       "      <td>-145292.195117</td>\n",
       "      <td>-134245.113640</td>\n",
       "      <td>-156289.655720</td>\n",
       "      <td>-448931.702844</td>\n",
       "      <td>1.673700e+09</td>\n",
       "    </tr>\n",
       "    <tr>\n",
       "      <th>...</th>\n",
       "      <td>...</td>\n",
       "      <td>...</td>\n",
       "      <td>...</td>\n",
       "      <td>...</td>\n",
       "      <td>...</td>\n",
       "      <td>...</td>\n",
       "      <td>...</td>\n",
       "      <td>...</td>\n",
       "      <td>...</td>\n",
       "    </tr>\n",
       "    <tr>\n",
       "      <th>108577</th>\n",
       "      <td>-153411.242772</td>\n",
       "      <td>-151025.283459</td>\n",
       "      <td>-124695.777857</td>\n",
       "      <td>-144253.241331</td>\n",
       "      <td>-123686.328374</td>\n",
       "      <td>-116255.803854</td>\n",
       "      <td>-122220.098641</td>\n",
       "      <td>-247183.158658</td>\n",
       "      <td>1.673700e+09</td>\n",
       "    </tr>\n",
       "    <tr>\n",
       "      <th>108578</th>\n",
       "      <td>-153124.916926</td>\n",
       "      <td>-150738.018839</td>\n",
       "      <td>-125831.291179</td>\n",
       "      <td>-143995.212793</td>\n",
       "      <td>-124381.557033</td>\n",
       "      <td>-116842.000704</td>\n",
       "      <td>-122482.955156</td>\n",
       "      <td>-247969.850656</td>\n",
       "      <td>1.673700e+09</td>\n",
       "    </tr>\n",
       "    <tr>\n",
       "      <th>108579</th>\n",
       "      <td>-152980.614064</td>\n",
       "      <td>-150592.508983</td>\n",
       "      <td>-126731.977073</td>\n",
       "      <td>-143857.615454</td>\n",
       "      <td>-125117.287054</td>\n",
       "      <td>-117352.827472</td>\n",
       "      <td>-122661.858518</td>\n",
       "      <td>-248913.854231</td>\n",
       "      <td>1.673700e+09</td>\n",
       "    </tr>\n",
       "    <tr>\n",
       "      <th>108580</th>\n",
       "      <td>-153185.937188</td>\n",
       "      <td>-150804.001189</td>\n",
       "      <td>-126105.144752</td>\n",
       "      <td>-144034.238939</td>\n",
       "      <td>-124833.911638</td>\n",
       "      <td>-117050.274259</td>\n",
       "      <td>-122473.567423</td>\n",
       "      <td>-248680.502019</td>\n",
       "      <td>1.673700e+09</td>\n",
       "    </tr>\n",
       "    <tr>\n",
       "      <th>108581</th>\n",
       "      <td>-153440.612965</td>\n",
       "      <td>-151066.589483</td>\n",
       "      <td>-124928.727738</td>\n",
       "      <td>-144268.932255</td>\n",
       "      <td>-124010.607482</td>\n",
       "      <td>-116435.243658</td>\n",
       "      <td>-122207.894588</td>\n",
       "      <td>-247727.647153</td>\n",
       "      <td>1.673700e+09</td>\n",
       "    </tr>\n",
       "  </tbody>\n",
       "</table>\n",
       "<p>108582 rows × 9 columns</p>\n",
       "</div>"
      ],
      "text/plain": [
       "                  Fp1            Fp2             C3             C4  \\\n",
       "0            0.000000       0.000000       0.000000       0.000000   \n",
       "1      -170136.427300 -171586.966108 -138593.913745 -156768.161865   \n",
       "2      -169766.684743 -171218.296435 -139538.721983 -156460.244234   \n",
       "3      -169483.041106 -170935.055129 -140971.289989 -156202.081585   \n",
       "4      -169704.457486 -171155.398626 -140885.325180 -156381.789611   \n",
       "...               ...            ...            ...            ...   \n",
       "108577 -153411.242772 -151025.283459 -124695.777857 -144253.241331   \n",
       "108578 -153124.916926 -150738.018839 -125831.291179 -143995.212793   \n",
       "108579 -152980.614064 -150592.508983 -126731.977073 -143857.615454   \n",
       "108580 -153185.937188 -150804.001189 -126105.144752 -144034.238939   \n",
       "108581 -153440.612965 -151066.589483 -124928.727738 -144268.932255   \n",
       "\n",
       "                   P3             P4             O1             O2  \\\n",
       "0            0.000000       0.000000       0.000000       0.000000   \n",
       "1      -144418.465426 -133906.484712 -156130.198375 -448982.396601   \n",
       "2      -144747.974843 -134101.883662 -156261.894853 -448956.379170   \n",
       "3      -145293.402111 -134372.384473 -156367.573901 -449224.331883   \n",
       "4      -145292.195117 -134245.113640 -156289.655720 -448931.702844   \n",
       "...               ...            ...            ...            ...   \n",
       "108577 -123686.328374 -116255.803854 -122220.098641 -247183.158658   \n",
       "108578 -124381.557033 -116842.000704 -122482.955156 -247969.850656   \n",
       "108579 -125117.287054 -117352.827472 -122661.858518 -248913.854231   \n",
       "108580 -124833.911638 -117050.274259 -122473.567423 -248680.502019   \n",
       "108581 -124010.607482 -116435.243658 -122207.894588 -247727.647153   \n",
       "\n",
       "           Timestamp  \n",
       "0       1.673700e+09  \n",
       "1       1.673700e+09  \n",
       "2       1.673700e+09  \n",
       "3       1.673700e+09  \n",
       "4       1.673700e+09  \n",
       "...              ...  \n",
       "108577  1.673700e+09  \n",
       "108578  1.673700e+09  \n",
       "108579  1.673700e+09  \n",
       "108580  1.673700e+09  \n",
       "108581  1.673700e+09  \n",
       "\n",
       "[108582 rows x 9 columns]"
      ]
     },
     "execution_count": 9,
     "metadata": {},
     "output_type": "execute_result"
    }
   ],
   "source": [
    "df_1"
   ]
  },
  {
   "cell_type": "code",
   "execution_count": 10,
   "id": "34725664",
   "metadata": {},
   "outputs": [],
   "source": [
    "data = df_1.to_numpy()"
   ]
  },
  {
   "cell_type": "code",
   "execution_count": 11,
   "id": "1f1fca3d",
   "metadata": {},
   "outputs": [
    {
     "data": {
      "text/plain": [
       "array([[ 0.00000000e+00,  0.00000000e+00,  0.00000000e+00, ...,\n",
       "         0.00000000e+00,  0.00000000e+00,  1.67369990e+09],\n",
       "       [-1.70136427e+05, -1.71586966e+05, -1.38593914e+05, ...,\n",
       "        -1.56130198e+05, -4.48982397e+05,  1.67369990e+09],\n",
       "       [-1.69766685e+05, -1.71218296e+05, -1.39538722e+05, ...,\n",
       "        -1.56261895e+05, -4.48956379e+05,  1.67369990e+09],\n",
       "       ...,\n",
       "       [-1.52980614e+05, -1.50592509e+05, -1.26731977e+05, ...,\n",
       "        -1.22661859e+05, -2.48913854e+05,  1.67370033e+09],\n",
       "       [-1.53185937e+05, -1.50804001e+05, -1.26105145e+05, ...,\n",
       "        -1.22473567e+05, -2.48680502e+05,  1.67370033e+09],\n",
       "       [-1.53440613e+05, -1.51066589e+05, -1.24928728e+05, ...,\n",
       "        -1.22207895e+05, -2.47727647e+05,  1.67370033e+09]])"
      ]
     },
     "execution_count": 11,
     "metadata": {},
     "output_type": "execute_result"
    }
   ],
   "source": [
    "data"
   ]
  },
  {
   "cell_type": "code",
   "execution_count": 12,
   "id": "1263e7b3",
   "metadata": {},
   "outputs": [],
   "source": [
    "events = events_df_1.to_numpy()"
   ]
  },
  {
   "cell_type": "code",
   "execution_count": 13,
   "id": "90f6c830",
   "metadata": {},
   "outputs": [
    {
     "data": {
      "text/plain": [
       "array([[1673699962.5861514, 'start'],\n",
       "       [1673699962.6509824, 'baseline'],\n",
       "       [1673699972.6488984, 'red'],\n",
       "       [1673699977.6548796, 'fixation'],\n",
       "       [1673699979.674867, 'red'],\n",
       "       [1673699984.6780932, 'fixation'],\n",
       "       [1673699986.6962523, 'white'],\n",
       "       [1673699991.695564, 'fixation'],\n",
       "       [1673699993.6986327, 'red'],\n",
       "       [1673699998.7133682, 'fixation'],\n",
       "       [1673700000.7351177, 'white'],\n",
       "       [1673700005.7215924, 'fixation'],\n",
       "       [1673700007.735239, 'white'],\n",
       "       [1673700012.7342074, 'fixation'],\n",
       "       [1673700014.7265794, 'red'],\n",
       "       [1673700019.746312, 'fixation'],\n",
       "       [1673700021.7413683, 'white'],\n",
       "       [1673700026.7485049, 'fixation'],\n",
       "       [1673700028.756841, 'red'],\n",
       "       [1673700033.758534, 'fixation'],\n",
       "       [1673700035.765659, 'white'],\n",
       "       [1673700040.768592, 'fixation'],\n",
       "       [1673700042.7737846, 'white'],\n",
       "       [1673700047.771435, 'fixation'],\n",
       "       [1673700049.7882314, 'red'],\n",
       "       [1673700054.774079, 'fixation'],\n",
       "       [1673700056.7770588, 'white'],\n",
       "       [1673700061.7903984, 'fixation'],\n",
       "       [1673700063.8104064, 'red'],\n",
       "       [1673700068.8033187, 'fixation'],\n",
       "       [1673700070.8112402, 'red'],\n",
       "       [1673700075.821576, 'fixation'],\n",
       "       [1673700077.8375642, 'white'],\n",
       "       [1673700082.8550816, 'fixation'],\n",
       "       [1673700084.8587248, 'red'],\n",
       "       [1673700089.8474274, 'fixation'],\n",
       "       [1673700091.8521516, 'red'],\n",
       "       [1673700096.8563986, 'fixation'],\n",
       "       [1673700098.8492537, 'white'],\n",
       "       [1673700103.85195, 'fixation'],\n",
       "       [1673700105.847927, 'white'],\n",
       "       [1673700110.8482845, 'fixation'],\n",
       "       [1673700112.8556857, 'red'],\n",
       "       [1673700117.8582044, 'fixation'],\n",
       "       [1673700119.8660295, 'white'],\n",
       "       [1673700124.8909678, 'fixation'],\n",
       "       [1673700126.8971112, 'white'],\n",
       "       [1673700131.9203904, 'fixation'],\n",
       "       [1673700133.9113398, 'red'],\n",
       "       [1673700138.9189713, 'fixation'],\n",
       "       [1673700140.912128, 'red'],\n",
       "       [1673700145.9177544, 'fixation'],\n",
       "       [1673700147.9381385, 'white'],\n",
       "       [1673700152.941963, 'fixation'],\n",
       "       [1673700154.9634335, 'white'],\n",
       "       [1673700159.962335, 'fixation'],\n",
       "       [1673700161.9715466, 'red'],\n",
       "       [1673700166.9854877, 'fixation'],\n",
       "       [1673700168.99524, 'white'],\n",
       "       [1673700174.0043368, 'fixation'],\n",
       "       [1673700176.01514, 'red'],\n",
       "       [1673700181.0138142, 'fixation'],\n",
       "       [1673700183.0175662, 'red'],\n",
       "       [1673700188.01702, 'fixation'],\n",
       "       [1673700190.0345814, 'white'],\n",
       "       [1673700195.038973, 'fixation'],\n",
       "       [1673700197.0455077, 'red'],\n",
       "       [1673700202.049153, 'fixation'],\n",
       "       [1673700204.064063, 'red'],\n",
       "       [1673700209.0531335, 'fixation'],\n",
       "       [1673700211.0568995, 'white'],\n",
       "       [1673700216.0494604, 'fixation'],\n",
       "       [1673700218.0649066, 'red'],\n",
       "       [1673700223.0573928, 'fixation'],\n",
       "       [1673700225.062899, 'white'],\n",
       "       [1673700230.0497906, 'fixation'],\n",
       "       [1673700232.0600665, 'red'],\n",
       "       [1673700237.0675385, 'fixation'],\n",
       "       [1673700239.0898986, 'white'],\n",
       "       [1673700244.1036031, 'fixation'],\n",
       "       [1673700246.09829, 'white'],\n",
       "       [1673700251.1030047, 'fixation'],\n",
       "       [1673700253.107392, 'red'],\n",
       "       [1673700258.0987134, 'fixation'],\n",
       "       [1673700260.1161404, 'white'],\n",
       "       [1673700265.1123607, 'fixation'],\n",
       "       [1673700267.1293242, 'white'],\n",
       "       [1673700272.149522, 'fixation'],\n",
       "       [1673700274.1654136, 'red'],\n",
       "       [1673700279.1714694, 'fixation'],\n",
       "       [1673700281.1679654, 'white'],\n",
       "       [1673700286.176365, 'fixation'],\n",
       "       [1673700288.1803892, 'red'],\n",
       "       [1673700293.1989655, 'fixation'],\n",
       "       [1673700295.2059274, 'white'],\n",
       "       [1673700300.2286994, 'fixation'],\n",
       "       [1673700302.236229, 'red'],\n",
       "       [1673700307.23648, 'fixation'],\n",
       "       [1673700309.2687166, 'red'],\n",
       "       [1673700314.265103, 'fixation'],\n",
       "       [1673700316.2564416, 'white'],\n",
       "       [1673700321.256621, 'fixation']], dtype=object)"
      ]
     },
     "execution_count": 13,
     "metadata": {},
     "output_type": "execute_result"
    }
   ],
   "source": [
    "events"
   ]
  },
  {
   "cell_type": "code",
   "execution_count": 14,
   "id": "41837803",
   "metadata": {},
   "outputs": [
    {
     "data": {
      "text/plain": [
       "(108582, 9)"
      ]
     },
     "execution_count": 14,
     "metadata": {},
     "output_type": "execute_result"
    }
   ],
   "source": [
    "data.shape"
   ]
  },
  {
   "cell_type": "code",
   "execution_count": 15,
   "id": "f9e3cc0a",
   "metadata": {},
   "outputs": [
    {
     "data": {
      "text/plain": [
       "(102, 2)"
      ]
     },
     "execution_count": 15,
     "metadata": {},
     "output_type": "execute_result"
    }
   ],
   "source": [
    "events.shape"
   ]
  },
  {
   "cell_type": "code",
   "execution_count": 16,
   "id": "b6338ae0",
   "metadata": {},
   "outputs": [
    {
     "data": {
      "text/plain": [
       "[<matplotlib.lines.Line2D at 0x292558653c8>]"
      ]
     },
     "execution_count": 16,
     "metadata": {},
     "output_type": "execute_result"
    },
    {
     "data": {
      "image/png": "[encoded data removed]",
      "text/plain": [
       "<Figure size 432x288 with 1 Axes>"
      ]
     },
     "metadata": {
      "needs_background": "light"
     },
     "output_type": "display_data"
    }
   ],
   "source": [
    "plt.plot(data[1:2000,0])\n",
    "plt.plot(data[1:2000,1])\n",
    "plt.plot(data[1:2000,2])\n",
    "plt.plot(data[1:2000,3])\n",
    "plt.plot(data[1:2000,4])\n",
    "plt.plot(data[1:2000,5])\n",
    "plt.plot(data[1:2000,6])\n",
    "#plt.plot(data[1:2000,7])"
   ]
  },
  {
   "cell_type": "code",
   "execution_count": 17,
   "id": "69978823",
   "metadata": {},
   "outputs": [
    {
     "data": {
      "text/plain": [
       "[<matplotlib.lines.Line2D at 0x2925598bec8>]"
      ]
     },
     "execution_count": 17,
     "metadata": {},
     "output_type": "execute_result"
    },
    {
     "data": {
      "image/png": "[encoded data removed]",
      "text/plain": [
       "<Figure size 432x288 with 1 Axes>"
      ]
     },
     "metadata": {
      "needs_background": "light"
     },
     "output_type": "display_data"
    }
   ],
   "source": [
    "plt.plot(data[1:,0])\n",
    "plt.plot(data[1:,1])\n",
    "plt.plot(data[1:,2])\n",
    "plt.plot(data[1:,3])\n",
    "plt.plot(data[1:,4])\n",
    "plt.plot(data[1:,5])\n",
    "plt.plot(data[1:,6])\n",
    "#plt.plot(data[1:,7])"
   ]
  },
  {
   "cell_type": "code",
   "execution_count": 18,
   "id": "73a82cda",
   "metadata": {},
   "outputs": [],
   "source": [
    "eeg_data = data[:,:8]"
   ]
  },
  {
   "cell_type": "code",
   "execution_count": 19,
   "id": "413fc206",
   "metadata": {},
   "outputs": [],
   "source": [
    "time_stamp = data[:, 8]"
   ]
  },
  {
   "cell_type": "code",
   "execution_count": 20,
   "id": "bdcb8356",
   "metadata": {},
   "outputs": [
    {
     "data": {
      "text/plain": [
       "(108582, 8)"
      ]
     },
     "execution_count": 20,
     "metadata": {},
     "output_type": "execute_result"
    }
   ],
   "source": [
    "eeg_data.shape"
   ]
  },
  {
   "cell_type": "code",
   "execution_count": 21,
   "id": "07ce0d4f",
   "metadata": {},
   "outputs": [
    {
     "data": {
      "text/plain": [
       "(108582,)"
      ]
     },
     "execution_count": 21,
     "metadata": {},
     "output_type": "execute_result"
    }
   ],
   "source": [
    "time_stamp.shape"
   ]
  },
  {
   "cell_type": "code",
   "execution_count": 22,
   "id": "f1f6420e",
   "metadata": {},
   "outputs": [],
   "source": [
    "def find_closest(arr, val):\n",
    "       idx = np.abs(arr - val).argmin()\n",
    "       return (arr[idx] , idx)"
   ]
  },
  {
   "cell_type": "code",
   "execution_count": 23,
   "id": "a995bb08",
   "metadata": {},
   "outputs": [
    {
     "name": "stdout",
     "output_type": "stream",
     "text": [
      "[1.67369996e+09 1.67369996e+09 1.67369997e+09 1.67369998e+09\n",
      " 1.67369998e+09 1.67369998e+09 1.67369999e+09 1.67369999e+09\n",
      " 1.67369999e+09 1.67370000e+09 1.67370000e+09 1.67370001e+09\n",
      " 1.67370001e+09 1.67370001e+09 1.67370001e+09 1.67370002e+09\n",
      " 1.67370002e+09 1.67370003e+09 1.67370003e+09 1.67370003e+09\n",
      " 1.67370004e+09 1.67370004e+09 1.67370004e+09 1.67370005e+09\n",
      " 1.67370005e+09 1.67370005e+09 1.67370006e+09 1.67370006e+09\n",
      " 1.67370006e+09 1.67370007e+09 1.67370007e+09 1.67370008e+09\n",
      " 1.67370008e+09 1.67370008e+09 1.67370008e+09 1.67370009e+09\n",
      " 1.67370009e+09 1.67370010e+09 1.67370010e+09 1.67370010e+09\n",
      " 1.67370011e+09 1.67370011e+09 1.67370011e+09 1.67370012e+09\n",
      " 1.67370012e+09 1.67370012e+09 1.67370013e+09 1.67370013e+09\n",
      " 1.67370013e+09 1.67370014e+09 1.67370014e+09 1.67370015e+09\n",
      " 1.67370015e+09 1.67370015e+09 1.67370015e+09 1.67370016e+09\n",
      " 1.67370016e+09 1.67370017e+09 1.67370017e+09 1.67370017e+09\n",
      " 1.67370018e+09 1.67370018e+09 1.67370018e+09 1.67370019e+09\n",
      " 1.67370019e+09 1.67370020e+09 1.67370020e+09 1.67370020e+09\n",
      " 1.67370020e+09 1.67370021e+09 1.67370021e+09 1.67370022e+09\n",
      " 1.67370022e+09 1.67370022e+09 1.67370023e+09 1.67370023e+09\n",
      " 1.67370023e+09 1.67370024e+09 1.67370024e+09 1.67370024e+09\n",
      " 1.67370025e+09 1.67370025e+09 1.67370025e+09 1.67370026e+09\n",
      " 1.67370026e+09 1.67370027e+09 1.67370027e+09 1.67370027e+09\n",
      " 1.67370027e+09 1.67370028e+09 1.67370028e+09 1.67370029e+09\n",
      " 1.67370029e+09 1.67370029e+09 1.67370030e+09 1.67370030e+09\n",
      " 1.67370030e+09 1.67370031e+09 1.67370031e+09 1.67370031e+09\n",
      " 1.67370032e+09 1.67370032e+09]\n",
      "[ 16834.  16851.  19354.  20607.  21113.  22365.  22871.  24122.  24624.\n",
      "  25880.  26385.  27634.  28138.  29390.  29889.  31146.  31645.  32899.\n",
      "  33402.  34655.  35157.  36410.  36913.  38164.  38669.  39917.  40419.\n",
      "  41674.  42180.  43430.  43933.  45188.  45692.  46949.  47450.  48699.\n",
      "  49202.  50455.  50954.  52206.  52706.  53958.  54461.  55714.  56216.\n",
      "  57474.  57977.  59235.  59733.  60988.  61486.  62740.  63246.  64499.\n",
      "  65005.  66257.  66760.  68015.  68519.  69773.  70277.  71528.  72030.\n",
      "  73282.  73787.  75040.  75543.  76796.  77300.  78550.  79051.  80301.\n",
      "  80806.  82056.  82558.  83807.  84310.  85564.  86071.  87327.  87826.\n",
      "  89079.  89581.  90831.  91336.  92587.  93092.  94349.  94854.  96108.\n",
      "  96607.  97862.  98364.  99620. 100123. 101381. 101883. 103135. 103644.\n",
      " 104895. 105394. 106646.]\n"
     ]
    }
   ],
   "source": [
    "closest_stamps_vals = np.zeros(len(events))\n",
    "closest_stamps_ids = np.zeros(len(events))\n",
    "event_labels = []\n",
    "\n",
    "for i in range(len(events)):\n",
    "    closest_stamps_vals[i] = find_closest(time_stamp, events[i,0])[0]\n",
    "    closest_stamps_ids[i] = find_closest(time_stamp, events[i,0])[1]\n",
    "    event_labels.append(events[i,1])\n",
    "print(closest_stamps_vals)\n",
    "print(closest_stamps_ids)"
   ]
  },
  {
   "cell_type": "code",
   "execution_count": 24,
   "id": "634ac6cc",
   "metadata": {},
   "outputs": [
    {
     "data": {
      "text/plain": [
       "['start',\n",
       " 'baseline',\n",
       " 'red',\n",
       " 'fixation',\n",
       " 'red',\n",
       " 'fixation',\n",
       " 'white',\n",
       " 'fixation',\n",
       " 'red',\n",
       " 'fixation',\n",
       " 'white',\n",
       " 'fixation',\n",
       " 'white',\n",
       " 'fixation',\n",
       " 'red',\n",
       " 'fixation',\n",
       " 'white',\n",
       " 'fixation',\n",
       " 'red',\n",
       " 'fixation',\n",
       " 'white',\n",
       " 'fixation',\n",
       " 'white',\n",
       " 'fixation',\n",
       " 'red',\n",
       " 'fixation',\n",
       " 'white',\n",
       " 'fixation',\n",
       " 'red',\n",
       " 'fixation',\n",
       " 'red',\n",
       " 'fixation',\n",
       " 'white',\n",
       " 'fixation',\n",
       " 'red',\n",
       " 'fixation',\n",
       " 'red',\n",
       " 'fixation',\n",
       " 'white',\n",
       " 'fixation',\n",
       " 'white',\n",
       " 'fixation',\n",
       " 'red',\n",
       " 'fixation',\n",
       " 'white',\n",
       " 'fixation',\n",
       " 'white',\n",
       " 'fixation',\n",
       " 'red',\n",
       " 'fixation',\n",
       " 'red',\n",
       " 'fixation',\n",
       " 'white',\n",
       " 'fixation',\n",
       " 'white',\n",
       " 'fixation',\n",
       " 'red',\n",
       " 'fixation',\n",
       " 'white',\n",
       " 'fixation',\n",
       " 'red',\n",
       " 'fixation',\n",
       " 'red',\n",
       " 'fixation',\n",
       " 'white',\n",
       " 'fixation',\n",
       " 'red',\n",
       " 'fixation',\n",
       " 'red',\n",
       " 'fixation',\n",
       " 'white',\n",
       " 'fixation',\n",
       " 'red',\n",
       " 'fixation',\n",
       " 'white',\n",
       " 'fixation',\n",
       " 'red',\n",
       " 'fixation',\n",
       " 'white',\n",
       " 'fixation',\n",
       " 'white',\n",
       " 'fixation',\n",
       " 'red',\n",
       " 'fixation',\n",
       " 'white',\n",
       " 'fixation',\n",
       " 'white',\n",
       " 'fixation',\n",
       " 'red',\n",
       " 'fixation',\n",
       " 'white',\n",
       " 'fixation',\n",
       " 'red',\n",
       " 'fixation',\n",
       " 'white',\n",
       " 'fixation',\n",
       " 'red',\n",
       " 'fixation',\n",
       " 'red',\n",
       " 'fixation',\n",
       " 'white',\n",
       " 'fixation']"
      ]
     },
     "execution_count": 24,
     "metadata": {},
     "output_type": "execute_result"
    }
   ],
   "source": [
    "event_labels"
   ]
  },
  {
   "cell_type": "code",
   "execution_count": 25,
   "id": "16e9078c",
   "metadata": {},
   "outputs": [
    {
     "data": {
      "text/plain": [
       "102"
      ]
     },
     "execution_count": 25,
     "metadata": {},
     "output_type": "execute_result"
    }
   ],
   "source": [
    "len(event_labels)"
   ]
  },
  {
   "cell_type": "code",
   "execution_count": 26,
   "id": "1c3a6c18",
   "metadata": {},
   "outputs": [],
   "source": [
    "# Removing fixation and base-line\n",
    "\n",
    "final_data = np.zeros((250,250,8))\n",
    "rc = 0 # row count \n",
    "markers = []\n",
    "for i,image in enumerate(closest_stamps_ids):\n",
    "     if event_labels[i] == 'red' or event_labels[i] == 'white':\n",
    "         for j in range(5):\n",
    "            if event_labels[i] == 'red':\n",
    "                markers.append(0)\n",
    "            if event_labels[i] == 'white':\n",
    "                markers.append(1)\n",
    "            for k in range(250):\n",
    "                final_data[rc][k] = eeg_data[int(closest_stamps_ids[i]+j*256):int(closest_stamps_ids[i])+j*256+250][k]           \n",
    "            rc = rc + 1   \n",
    "              \n",
    "rc = 0"
   ]
  },
  {
   "cell_type": "code",
   "execution_count": 27,
   "id": "c876668f",
   "metadata": {},
   "outputs": [
    {
     "data": {
      "text/plain": [
       "(250, 250, 8)"
      ]
     },
     "execution_count": 27,
     "metadata": {},
     "output_type": "execute_result"
    }
   ],
   "source": [
    "final_data.shape"
   ]
  },
  {
   "cell_type": "code",
   "execution_count": 28,
   "id": "cd7340ad",
   "metadata": {},
   "outputs": [],
   "source": [
    "markers = np.array(markers)"
   ]
  },
  {
   "cell_type": "code",
   "execution_count": 29,
   "id": "bb2b124b",
   "metadata": {},
   "outputs": [
    {
     "data": {
      "text/plain": [
       "(250,)"
      ]
     },
     "execution_count": 29,
     "metadata": {},
     "output_type": "execute_result"
    }
   ],
   "source": [
    "markers.shape"
   ]
  },
  {
   "cell_type": "code",
   "execution_count": 30,
   "id": "3e5d8d36",
   "metadata": {},
   "outputs": [
    {
     "data": {
      "text/plain": [
       "array([[[-164092.06856395, -165063.96711635, -136747.48083919, ...,\n",
       "         -121758.89274584, -134306.1339028 , -252615.43722337],\n",
       "        [-164142.6282099 , -165121.36639611, -136823.11914243, ...,\n",
       "         -121796.84600792, -134295.40506547, -252775.96745205],\n",
       "        [-164336.1496134 , -165315.82657287, -136156.0536809 , ...,\n",
       "         -121562.15269114, -134186.37325601, -252440.95950615],\n",
       "        ...,\n",
       "        [-164474.819836  , -165416.00709152, -134172.29165701, ...,\n",
       "         -120998.08406807, -133747.8320298 , -247143.05962837],\n",
       "        [-164306.64531072, -165249.17367091, -134459.42216628, ...,\n",
       "         -121088.20630171, -133808.3158503 , -247156.87300645],\n",
       "        [-164074.76831374, -165024.2704182 , -135381.02929366, ...,\n",
       "         -121385.26098552, -133941.21932283, -247603.99730253]],\n",
       "\n",
       "       [[-164270.56959517, -165218.32826356, -135148.61585481, ...,\n",
       "         -121537.7445862 , -133904.20483401, -247619.82233761],\n",
       "        [-164437.00068438, -165384.22291091, -134368.89760123, ...,\n",
       "         -121316.73053702, -133802.01265836, -247154.99545991],\n",
       "        [-164273.38591497, -165226.6431125 , -134713.82972167, ...,\n",
       "         -121460.63106783, -133881.54016513, -247222.05069328],\n",
       "        ...,\n",
       "        [-163993.22914996, -164966.06647564, -135537.6703188 , ...,\n",
       "         -121018.06652761, -133841.17291464, -245096.93623745],\n",
       "        [-163914.50630599, -164885.06375373, -136193.47050112, ...,\n",
       "         -121260.0018096 , -133904.47305494, -245605.88545869],\n",
       "        [-164216.52307707, -165155.16223373, -135425.01752675, ...,\n",
       "         -121014.84787641, -133750.6483496 , -245307.08733882]],\n",
       "\n",
       "       [[-164327.43243306, -165282.16484572, -134398.93834578, ...,\n",
       "         -120627.13451709, -133645.63985415, -244456.1564274 ],\n",
       "        [-163985.04841149, -164950.37555103, -135609.4194185 , ...,\n",
       "         -121037.24432436, -133848.68310078, -245089.02371991],\n",
       "        [-163940.52373654, -164897.2678062 , -136196.68915232, ...,\n",
       "         -121265.09800733, -133907.28937474, -245568.87096988],\n",
       "        ...,\n",
       "        [-163968.82104502, -164927.84499262, -136241.21382728, ...,\n",
       "         -121857.73215982, -133838.75892624, -245765.20869317],\n",
       "        [-164253.13523449, -165224.36323456, -135122.8666452 , ...,\n",
       "         -121470.95757377, -133663.47654623, -245152.32386021],\n",
       "        [-164177.63104172, -165157.57622213, -134993.71826574, ...,\n",
       "         -121406.18221833, -133694.45606404, -244933.72379943]],\n",
       "\n",
       "       ...,\n",
       "\n",
       "       [[-153583.44061177, -151114.73514017, -126142.1592405 , ...,\n",
       "         -117489.2178165 , -122735.75338551, -248685.32999579],\n",
       "        [-153795.46925968, -151337.76084635, -125011.07156409, ...,\n",
       "         -116863.05604733, -122516.88510381, -247529.9683249 ],\n",
       "        [-153552.46109396, -151102.79930863, -125689.53641528, ...,\n",
       "         -117159.8425102 , -122722.47644931, -247694.79008851],\n",
       "        ...,\n",
       "        [-153676.64738615, -151234.22756603, -125101.7302396 , ...,\n",
       "         -116325.67540713, -122518.36031894, -247972.39875464],\n",
       "        [-153344.32164959, -150914.64232381, -126401.66299363, ...,\n",
       "         -116975.84294985, -122808.30714802, -248830.03518939],\n",
       "        [-153169.57571144, -150755.72142073, -127359.47994703, ...,\n",
       "         -117571.56164307, -122990.1609409 , -249896.34751038]],\n",
       "\n",
       "       [[-153728.95046818, -151292.96795046, -125228.59874113, ...,\n",
       "         -116539.98393297, -122498.51196987, -248516.88724958],\n",
       "        [-153667.52787441, -151240.53075797, -125066.05685545, ...,\n",
       "         -116342.30510501, -122506.4244874 , -247969.85065578],\n",
       "        [-153333.72692272, -150917.99508548, -126358.47942334, ...,\n",
       "         -116996.49596173, -122807.36837475, -248843.04390467],\n",
       "        ...,\n",
       "        [-153473.60413952, -151051.97144174, -125748.00857878, ...,\n",
       "         -116841.19604125, -122677.14711155, -248154.11843707],\n",
       "        [-153189.96050238, -150767.5231418 , -127086.6992577 , ...,\n",
       "         -117557.48004406, -122974.4700163 , -249316.9902941 ],\n",
       "        [-153278.47341042, -150867.70366045, -127035.20083847, ...,\n",
       "         -117603.74815509, -122920.8258296 , -249662.72707733]],\n",
       "\n",
       "       [[-153741.42274158, -151344.86870108, -124877.63164969, ...,\n",
       "         -116357.45958775, -122447.95232391, -247689.29155937],\n",
       "        [-153466.22806385, -151085.36494796, -125746.80158458, ...,\n",
       "         -116743.429511  , -122670.44158822, -248036.23533681],\n",
       "        [-153172.79436264, -150790.45603162, -127092.3318973 , ...,\n",
       "         -117499.00788057, -122953.14645209, -249222.30830459],\n",
       "        ...,\n",
       "        [-153254.86996828, -150880.84648619, -126606.44967633, ...,\n",
       "         -117647.19994631, -122884.21367219, -250026.03233171],\n",
       "        [-153138.32797269, -150770.87590347, -127347.14178409, ...,\n",
       "         -118162.98880136, -123005.44953411, -250968.1583605 ],\n",
       "        [-153413.12031902, -151032.12309267, -126438.94570338, ...,\n",
       "         -117788.41826778, -122769.54922313, -250539.94364023]]])"
      ]
     },
     "execution_count": 30,
     "metadata": {},
     "output_type": "execute_result"
    }
   ],
   "source": [
    "final_data"
   ]
  },
  {
   "cell_type": "code",
   "execution_count": 31,
   "id": "f00f7065",
   "metadata": {},
   "outputs": [],
   "source": [
    "from scipy.stats import kurtosis, skew"
   ]
  },
  {
   "cell_type": "code",
   "execution_count": 32,
   "id": "f48281da",
   "metadata": {},
   "outputs": [],
   "source": [
    "_mean = []\n",
    "_std = []\n",
    "_skewness = []\n",
    "_kurtosis = []"
   ]
  },
  {
   "cell_type": "code",
   "execution_count": 33,
   "id": "74859931",
   "metadata": {},
   "outputs": [],
   "source": [
    "for i in range(250):\n",
    "    _mean.append(np.mean(final_data[i], axis = 0))\n",
    "    _std.append(np.std(final_data[i], axis = 0))\n",
    "    _skewness.append(skew(final_data[i], axis = 0))\n",
    "    _kurtosis.append(kurtosis(final_data[i], axis = 0))"
   ]
  },
  {
   "cell_type": "code",
   "execution_count": 34,
   "id": "a89a2a60",
   "metadata": {},
   "outputs": [],
   "source": [
    "_mean = np.array(_mean)\n",
    "_std = np.array(_std)\n",
    "_skewness = np.array(_skewness)\n",
    "_kurtosis = np.array(_kurtosis)"
   ]
  },
  {
   "cell_type": "code",
   "execution_count": 35,
   "id": "58ee59fc",
   "metadata": {},
   "outputs": [
    {
     "name": "stdout",
     "output_type": "stream",
     "text": [
      "(250, 8)\n",
      "(250, 8)\n",
      "(250, 8)\n",
      "(250, 8)\n"
     ]
    }
   ],
   "source": [
    "print(_mean.shape)\n",
    "print(_std.shape)\n",
    "print(_skewness.shape)\n",
    "print(_kurtosis.shape)"
   ]
  },
  {
   "cell_type": "code",
   "execution_count": 36,
   "id": "eee44d02",
   "metadata": {},
   "outputs": [
    {
     "data": {
      "text/plain": [
       "array([[-164302.38703518, -165263.92743157, -135653.71449634, ...,\n",
       "        -121425.71943113, -134070.62948592, -250814.22636679],\n",
       "       [-164224.76765213, -165174.49935371, -135169.80316279, ...,\n",
       "        -121367.13568773, -133858.75104174, -246881.02118743],\n",
       "       [-164126.09453512, -165084.98061716, -135441.5994813 , ...,\n",
       "        -121158.48769647, -133758.74433026, -245375.23262206],\n",
       "       ...,\n",
       "       [-153487.36440985, -151042.8390554 , -126189.67833396, ...,\n",
       "        -117229.58799953, -122779.91810798, -248961.47417563],\n",
       "       [-153451.20179071, -151040.77536354, -126143.03256786, ...,\n",
       "        -117208.31432442, -122733.68271991, -248877.91155313],\n",
       "       [-153430.30308846, -151042.45764523, -126079.58329673, ...,\n",
       "        -117111.92376756, -122688.81847725, -249076.50984246]])"
      ]
     },
     "execution_count": 36,
     "metadata": {},
     "output_type": "execute_result"
    }
   ],
   "source": [
    "_mean"
   ]
  },
  {
   "cell_type": "code",
   "execution_count": 37,
   "id": "ececf0f1",
   "metadata": {},
   "outputs": [
    {
     "data": {
      "text/plain": [
       "array([[ 159.67819762,  156.76180131,  998.58555157, ...,  419.02203615,\n",
       "         166.68352848, 2028.66528525],\n",
       "       [ 178.94433468,  179.10781436,  664.5867981 , ...,  353.68825853,\n",
       "         124.87345719, 1330.97028551],\n",
       "       [ 210.15564427,  208.60316736,  757.24674581, ...,  441.75017944,\n",
       "         130.94340605,  657.50661193],\n",
       "       ...,\n",
       "       [ 204.50960691,  204.03361684,  856.18880799, ...,  526.60728232,\n",
       "         190.37184625,  743.74369424],\n",
       "       [ 204.37130143,  205.17811921,  855.84651671, ...,  551.06413413,\n",
       "         194.12635502,  721.29304308],\n",
       "       [ 204.56487774,  203.9296274 ,  848.801105  , ...,  505.07628871,\n",
       "         190.25454634,  816.92698041]])"
      ]
     },
     "execution_count": 37,
     "metadata": {},
     "output_type": "execute_result"
    }
   ],
   "source": [
    "_std"
   ]
  },
  {
   "cell_type": "code",
   "execution_count": 38,
   "id": "aab168ae",
   "metadata": {},
   "outputs": [
    {
     "data": {
      "text/plain": [
       "array([[-0.2333866 , -0.22821347,  0.63119864, ..., -0.11305043,\n",
       "         0.55449881,  0.91624334],\n",
       "       [-0.01990886, -0.05001129,  0.12598496, ..., -0.0961523 ,\n",
       "         0.28239657,  0.29917068],\n",
       "       [-0.05438377, -0.04472659,  0.05642391, ..., -0.32406368,\n",
       "         0.00797531,  0.33801899],\n",
       "       ...,\n",
       "       [-0.06767018, -0.06812023,  0.02778328, ..., -0.08741983,\n",
       "         0.05116775,  0.02037273],\n",
       "       [ 0.00983043,  0.00840399,  0.01841979, ..., -0.08231356,\n",
       "         0.00492274,  0.05401283],\n",
       "       [-0.09580376, -0.09938834,  0.06725362, ..., -0.06604959,\n",
       "         0.08554246, -0.10847714]])"
      ]
     },
     "execution_count": 38,
     "metadata": {},
     "output_type": "execute_result"
    }
   ],
   "source": [
    "_skewness"
   ]
  },
  {
   "cell_type": "code",
   "execution_count": 39,
   "id": "9a16f08f",
   "metadata": {},
   "outputs": [
    {
     "data": {
      "text/plain": [
       "array([[-0.65447391, -0.68642894, -0.60878802, ..., -0.46055325,\n",
       "        -0.80357949, -0.87468552],\n",
       "       [-1.27860541, -1.25831731, -1.25820907, ..., -0.49346191,\n",
       "        -0.78311269, -1.44130525],\n",
       "       [-1.23285958, -1.27072633, -1.32278612, ..., -0.58898309,\n",
       "        -1.03192969, -0.37269957],\n",
       "       ...,\n",
       "       [-1.40987918, -1.42183971, -1.47115433, ..., -0.89123441,\n",
       "        -1.3735432 , -1.27180775],\n",
       "       [-1.43060487, -1.43692963, -1.43186675, ..., -0.80994889,\n",
       "        -1.31926744, -1.42196747],\n",
       "       [-1.39434806, -1.3976552 , -1.45302849, ..., -0.97315917,\n",
       "        -1.37087978, -0.88469351]])"
      ]
     },
     "execution_count": 39,
     "metadata": {},
     "output_type": "execute_result"
    }
   ],
   "source": [
    "_kurtosis"
   ]
  },
  {
   "cell_type": "code",
   "execution_count": 40,
   "id": "56e60d1b",
   "metadata": {},
   "outputs": [],
   "source": [
    "stat_features = np.concatenate((_mean, _std, _skewness, _kurtosis), axis = 1)"
   ]
  },
  {
   "cell_type": "code",
   "execution_count": 41,
   "id": "b5cfc469",
   "metadata": {},
   "outputs": [
    {
     "data": {
      "text/plain": [
       "(250, 32)"
      ]
     },
     "execution_count": 41,
     "metadata": {},
     "output_type": "execute_result"
    }
   ],
   "source": [
    "stat_features.shape"
   ]
  },
  {
   "cell_type": "code",
   "execution_count": 42,
   "id": "dd95a949",
   "metadata": {},
   "outputs": [
    {
     "data": {
      "text/plain": [
       "array([0, 0, 0, 0, 0, 0, 0, 0, 0, 0, 1, 1, 1, 1, 1, 0, 0, 0, 0, 0, 1, 1,\n",
       "       1, 1, 1, 1, 1, 1, 1, 1, 0, 0, 0, 0, 0, 1, 1, 1, 1, 1, 0, 0, 0, 0,\n",
       "       0, 1, 1, 1, 1, 1, 1, 1, 1, 1, 1, 0, 0, 0, 0, 0, 1, 1, 1, 1, 1, 0,\n",
       "       0, 0, 0, 0, 0, 0, 0, 0, 0, 1, 1, 1, 1, 1, 0, 0, 0, 0, 0, 0, 0, 0,\n",
       "       0, 0, 1, 1, 1, 1, 1, 1, 1, 1, 1, 1, 0, 0, 0, 0, 0, 1, 1, 1, 1, 1,\n",
       "       1, 1, 1, 1, 1, 0, 0, 0, 0, 0, 0, 0, 0, 0, 0, 1, 1, 1, 1, 1, 1, 1,\n",
       "       1, 1, 1, 0, 0, 0, 0, 0, 1, 1, 1, 1, 1, 0, 0, 0, 0, 0, 0, 0, 0, 0,\n",
       "       0, 1, 1, 1, 1, 1, 0, 0, 0, 0, 0, 0, 0, 0, 0, 0, 1, 1, 1, 1, 1, 0,\n",
       "       0, 0, 0, 0, 1, 1, 1, 1, 1, 0, 0, 0, 0, 0, 1, 1, 1, 1, 1, 1, 1, 1,\n",
       "       1, 1, 0, 0, 0, 0, 0, 1, 1, 1, 1, 1, 1, 1, 1, 1, 1, 0, 0, 0, 0, 0,\n",
       "       1, 1, 1, 1, 1, 0, 0, 0, 0, 0, 1, 1, 1, 1, 1, 0, 0, 0, 0, 0, 0, 0,\n",
       "       0, 0, 0, 1, 1, 1, 1, 1])"
      ]
     },
     "execution_count": 42,
     "metadata": {},
     "output_type": "execute_result"
    }
   ],
   "source": [
    "markers"
   ]
  },
  {
   "cell_type": "code",
   "execution_count": 43,
   "id": "17f13c41",
   "metadata": {},
   "outputs": [
    {
     "name": "stdout",
     "output_type": "stream",
     "text": [
      "Requirement already satisfied: sklearn in c:\\python37\\lib\\site-packages (0.0.post1)\n",
      "Note: you may need to restart the kernel to use updated packages.\n"
     ]
    }
   ],
   "source": [
    "pip install sklearn"
   ]
  },
  {
   "cell_type": "code",
   "execution_count": 44,
   "id": "efe6cad9",
   "metadata": {},
   "outputs": [],
   "source": [
    "from sklearn.model_selection import train_test_split"
   ]
  },
  {
   "cell_type": "code",
   "execution_count": 128,
   "id": "d11cab0d",
   "metadata": {},
   "outputs": [],
   "source": [
    "X_train, X_test, y_train, y_test = train_test_split(stat_features, markers, test_size=0.3, random_state=42)"
   ]
  },
  {
   "cell_type": "code",
   "execution_count": 129,
   "id": "4ed18df8",
   "metadata": {},
   "outputs": [
    {
     "data": {
      "text/plain": [
       "array([0, 1, 1, 1, 0, 0, 0, 0, 1, 1, 0, 1, 0, 1, 0, 0, 1, 1, 1, 0, 0, 1,\n",
       "       1, 1, 0, 1, 1, 1, 1, 1, 0, 1, 0, 1, 0, 1, 0, 0, 0, 0, 0, 0, 1, 1,\n",
       "       0, 1, 0, 1, 1, 0, 0, 1, 1, 1, 1, 0, 0, 1, 0, 1, 1, 1, 0, 0, 0, 1,\n",
       "       0, 0, 1, 0, 1, 0, 1, 0, 1, 1, 0, 0, 0, 0, 0, 1, 1, 1, 0, 1, 1, 1,\n",
       "       1, 1, 0, 0, 0, 1, 0, 1, 1, 1, 0, 1, 1, 1, 0, 0, 0, 1, 0, 1, 1, 1,\n",
       "       0, 1, 0, 0, 0, 1, 0, 0, 1, 0, 0, 0, 1, 1, 0, 1, 1, 1, 1, 1, 0, 1,\n",
       "       1, 0, 1, 1, 1, 0, 0, 1, 0, 1, 0, 0, 0, 0, 0, 1, 1, 1, 1, 0, 0, 1,\n",
       "       0, 1, 0, 0, 1, 0, 0, 0, 0, 1, 1, 0, 1, 1, 0, 0, 1, 1, 1, 0, 0])"
      ]
     },
     "execution_count": 129,
     "metadata": {},
     "output_type": "execute_result"
    }
   ],
   "source": [
    "y_train"
   ]
  },
  {
   "cell_type": "code",
   "execution_count": 159,
   "id": "fc2efcc7",
   "metadata": {},
   "outputs": [
    {
     "name": "stdout",
     "output_type": "stream",
     "text": [
      "[[13 27]\n",
      " [ 6 29]]\n",
      "Accuracy: 56.00000000000001%\n"
     ]
    }
   ],
   "source": [
    "# SVM\n",
    "\n",
    "from sklearn.pipeline import make_pipeline\n",
    "from sklearn.preprocessing import StandardScaler\n",
    "from sklearn.svm import SVC\n",
    "\n",
    "svm_clf = make_pipeline(StandardScaler(), SVC(kernel = 'linear'))\n",
    "svm_clf.fit(X_train, y_train)\n",
    "\n",
    "y_pred = svm_clf.predict(X_test)\n",
    "\n",
    "cm = confusion_matrix(y_test, y_pred)\n",
    "print(cm)\n",
    "print('Accuracy: ' + str(accuracy_score(y_test, y_pred)*100) + '%')"
   ]
  },
  {
   "cell_type": "code",
   "execution_count": 161,
   "id": "7a95b44a",
   "metadata": {},
   "outputs": [
    {
     "name": "stdout",
     "output_type": "stream",
     "text": [
      "[[12 28]\n",
      " [ 9 26]]\n",
      "Accuracy: 50.66666666666667%\n"
     ]
    }
   ],
   "source": [
    "# SVM\n",
    "\n",
    "from sklearn.pipeline import make_pipeline\n",
    "from sklearn.preprocessing import StandardScaler\n",
    "from sklearn.svm import SVC\n",
    "\n",
    "svm2_clf = make_pipeline(StandardScaler(), SVC(kernel = 'rbf'))\n",
    "svm2_clf.fit(X_train, y_train)\n",
    "\n",
    "y_pred = svm2_clf.predict(X_test)\n",
    "\n",
    "cm = confusion_matrix(y_test, y_pred)\n",
    "print(cm)\n",
    "print('Accuracy: ' + str(accuracy_score(y_test, y_pred)*100) + '%')"
   ]
  },
  {
   "cell_type": "code",
   "execution_count": 150,
   "id": "6f755092",
   "metadata": {},
   "outputs": [
    {
     "name": "stdout",
     "output_type": "stream",
     "text": [
      "[[15 25]\n",
      " [11 24]]\n",
      "Accuracy: 52.0%\n"
     ]
    }
   ],
   "source": [
    "# RF\n",
    "from sklearn.ensemble import RandomForestClassifier\n",
    "\n",
    "rf_clf = RandomForestClassifier()\n",
    "rf_clf.fit(X_train, y_train)\n",
    "\n",
    "y_pred = rf_clf.predict(X_test)\n",
    "\n",
    "cm = confusion_matrix(y_test, y_pred)\n",
    "print(cm)\n",
    "print('Accuracy: ' + str(accuracy_score(y_test, y_pred)*100) + '%')"
   ]
  },
  {
   "cell_type": "code",
   "execution_count": 151,
   "id": "70958ffc",
   "metadata": {},
   "outputs": [
    {
     "name": "stdout",
     "output_type": "stream",
     "text": [
      "[[19 21]\n",
      " [11 24]]\n",
      "Accuracy: 57.333333333333336%\n"
     ]
    }
   ],
   "source": [
    "# LDA\n",
    "from sklearn.discriminant_analysis import LinearDiscriminantAnalysis\n",
    "\n",
    "lda_clf = LinearDiscriminantAnalysis()\n",
    "lda_clf.fit(X_train, y_train)\n",
    "\n",
    "y_pred = lda_clf.predict(X_test)\n",
    "\n",
    "cm = confusion_matrix(y_test, y_pred)\n",
    "print(cm)\n",
    "print('Accuracy: ' + str(accuracy_score(y_test, y_pred)*100) + '%')"
   ]
  },
  {
   "cell_type": "code",
   "execution_count": 1,
   "id": "f1f5a5d6",
   "metadata": {},
   "outputs": [
    {
     "ename": "NameError",
     "evalue": "name 'X_train' is not defined",
     "output_type": "error",
     "traceback": [
      "\u001b[1;31m---------------------------------------------------------------------------\u001b[0m",
      "\u001b[1;31mNameError\u001b[0m                                 Traceback (most recent call last)",
      "\u001b[1;32m~\\AppData\\Local\\Temp\\ipykernel_11716\\3921788399.py\u001b[0m in \u001b[0;36m<module>\u001b[1;34m\u001b[0m\n\u001b[0;32m      4\u001b[0m \u001b[1;33m\u001b[0m\u001b[0m\n\u001b[0;32m      5\u001b[0m \u001b[0mdt_clf\u001b[0m \u001b[1;33m=\u001b[0m \u001b[0mDecisionTreeClassifier\u001b[0m\u001b[1;33m(\u001b[0m\u001b[1;33m)\u001b[0m\u001b[1;33m\u001b[0m\u001b[1;33m\u001b[0m\u001b[0m\n\u001b[1;32m----> 6\u001b[1;33m \u001b[0mdt_clf\u001b[0m \u001b[1;33m=\u001b[0m \u001b[0mdt_clf\u001b[0m\u001b[1;33m.\u001b[0m\u001b[0mfit\u001b[0m\u001b[1;33m(\u001b[0m\u001b[0mX_train\u001b[0m\u001b[1;33m,\u001b[0m \u001b[0my_train\u001b[0m\u001b[1;33m)\u001b[0m\u001b[1;33m\u001b[0m\u001b[1;33m\u001b[0m\u001b[0m\n\u001b[0m\u001b[0;32m      7\u001b[0m \u001b[1;33m\u001b[0m\u001b[0m\n\u001b[0;32m      8\u001b[0m \u001b[0my_pred\u001b[0m \u001b[1;33m=\u001b[0m \u001b[0mdt_clf\u001b[0m\u001b[1;33m.\u001b[0m\u001b[0mpredict\u001b[0m\u001b[1;33m(\u001b[0m\u001b[0mX_test\u001b[0m\u001b[1;33m)\u001b[0m\u001b[1;33m\u001b[0m\u001b[1;33m\u001b[0m\u001b[0m\n",
      "\u001b[1;31mNameError\u001b[0m: name 'X_train' is not defined"
     ]
    }
   ],
   "source": [
    "# DT\n",
    "\n",
    "from sklearn.tree import DecisionTreeClassifier\n",
    "\n",
    "dt_clf = DecisionTreeClassifier()\n",
    "dt_clf = dt_clf.fit(X_train, y_train)\n",
    "\n",
    "y_pred = dt_clf.predict(X_test)\n",
    "\n",
    "cm = confusion_matrix(y_test, y_pred)\n",
    "print(cm)\n",
    "print('Accuracy: ' + str(accuracy_score(y_test, y_pred)*100) + '%')"
   ]
  },
  {
   "cell_type": "code",
   "execution_count": 153,
   "id": "731c6ee8",
   "metadata": {},
   "outputs": [
    {
     "name": "stdout",
     "output_type": "stream",
     "text": [
      "[[ 8 32]\n",
      " [ 3 32]]\n",
      "Accuracy: 53.333333333333336%\n"
     ]
    }
   ],
   "source": [
    "# NB\n",
    "\n",
    "from sklearn.naive_bayes import GaussianNB\n",
    "nb = GaussianNB()\n",
    "nb.fit(X_train, y_train)\n",
    "\n",
    "y_pred = nb.predict(X_test)\n",
    "\n",
    "cm = confusion_matrix(y_test, y_pred)\n",
    "print(cm)\n",
    "print('Accuracy: ' + str(accuracy_score(y_test, y_pred)*100) + '%')"
   ]
  },
  {
   "cell_type": "code",
   "execution_count": 154,
   "id": "c7d7f24f",
   "metadata": {},
   "outputs": [
    {
     "name": "stdout",
     "output_type": "stream",
     "text": [
      "[[23 17]\n",
      " [11 24]]\n",
      "Accuracy: 62.66666666666667%\n"
     ]
    }
   ],
   "source": [
    "# KNN\n",
    "\n",
    "from sklearn.neighbors import KNeighborsClassifier\n",
    "\n",
    "knn_clf = KNeighborsClassifier()\n",
    "knn_clf = knn_clf.fit(X_train, y_train)\n",
    "\n",
    "y_pred = knn_clf.predict(X_test)\n",
    "\n",
    "cm = confusion_matrix(y_test, y_pred)\n",
    "print(cm)\n",
    "print('Accuracy: ' + str(accuracy_score(y_test, y_pred)*100) + '%')"
   ]
  },
  {
   "cell_type": "code",
   "execution_count": 155,
   "id": "d3428a85",
   "metadata": {},
   "outputs": [
    {
     "name": "stdout",
     "output_type": "stream",
     "text": [
      "[[40  0]\n",
      " [35  0]]\n",
      "Accuracy: 53.333333333333336%\n"
     ]
    }
   ],
   "source": [
    "# GPC\n",
    "\n",
    "from sklearn.gaussian_process import GaussianProcessClassifier\n",
    "\n",
    "gp_clf = GaussianProcessClassifier()\n",
    "gp_clf = gp_clf.fit(X_train, y_train)\n",
    "\n",
    "y_pred = gp_clf.predict(X_test)\n",
    "\n",
    "cm = confusion_matrix(y_test, y_pred)\n",
    "print(cm)\n",
    "print('Accuracy: ' + str(accuracy_score(y_test, y_pred)*100) + '%')"
   ]
  },
  {
   "cell_type": "code",
   "execution_count": 156,
   "id": "db80f66c",
   "metadata": {},
   "outputs": [
    {
     "name": "stdout",
     "output_type": "stream",
     "text": [
      "[[15 25]\n",
      " [ 9 26]]\n",
      "Accuracy: 54.666666666666664%\n"
     ]
    }
   ],
   "source": [
    "# AdaBoost\n",
    "\n",
    "from sklearn.ensemble import AdaBoostClassifier\n",
    "\n",
    "adb_clf = AdaBoostClassifier()\n",
    "adb_clf = adb_clf.fit(X_train, y_train)\n",
    "\n",
    "y_pred = adb_clf.predict(X_test)\n",
    "\n",
    "cm = confusion_matrix(y_test, y_pred)\n",
    "print(cm)\n",
    "print('Accuracy: ' + str(accuracy_score(y_test, y_pred)*100) + '%')"
   ]
  },
  {
   "cell_type": "code",
   "execution_count": 157,
   "id": "a0b6e331",
   "metadata": {},
   "outputs": [
    {
     "name": "stdout",
     "output_type": "stream",
     "text": [
      "[[14 26]\n",
      " [ 6 29]]\n",
      "Accuracy: 57.333333333333336%\n"
     ]
    }
   ],
   "source": [
    "# QDA\n",
    "\n",
    "from sklearn.discriminant_analysis import QuadraticDiscriminantAnalysis\n",
    "\n",
    "qda_clf = QuadraticDiscriminantAnalysis()\n",
    "qda_clf = qda_clf.fit(X_train, y_train)\n",
    "\n",
    "y_pred = qda_clf.predict(X_test)\n",
    "\n",
    "cm = confusion_matrix(y_test, y_pred)\n",
    "print(cm)\n",
    "print('Accuracy: ' + str(accuracy_score(y_test, y_pred)*100) + '%')"
   ]
  },
  {
   "cell_type": "code",
   "execution_count": 163,
   "id": "f17f9e02",
   "metadata": {},
   "outputs": [
    {
     "name": "stdout",
     "output_type": "stream",
     "text": [
      "[[24 16]\n",
      " [21 14]]\n",
      "Accuracy: 50.66666666666667%\n"
     ]
    }
   ],
   "source": [
    "from sklearn.neural_network import MLPClassifier\n",
    "\n",
    "mlp_clf = MLPClassifier(random_state=1, max_iter=300).fit(X_train, y_train)\n",
    "\n",
    "y_pred = mlp_clf.predict(X_test)\n",
    "\n",
    "cm = confusion_matrix(y_test, y_pred)\n",
    "print(cm)\n",
    "print('Accuracy: ' + str(accuracy_score(y_test, y_pred)*100) + '%')"
   ]
  },
  {
   "cell_type": "code",
   "execution_count": null,
   "id": "0cd315a9",
   "metadata": {},
   "outputs": [],
   "source": [
    "#!/usr/bin/env python3\n",
    "\n",
    "'''\tFunctions used for common spatial patterns'''\n",
    "\n",
    "import numpy as np \n",
    "from scipy.special import binom\n",
    "import pyriemann.utils.mean as rie_mean\n",
    "from filters import butter_fir_filter\n",
    "from eig import gevd\n",
    "\n",
    "__author__ = \"Michael Hersche and Tino Rellstab\"\n",
    "__email__ = \"herschmi@ethz.ch,tinor@ethz.ch\"\n",
    "\n",
    "def csp_one_one(cov_matrix,NO_csp,NO_classes):\n",
    "\t'''\t\n",
    "\tcalculate spatial filter for class all pairs of classes \n",
    "\tKeyword arguments:\n",
    "\tcov_matrix -- numpy array of size [NO_channels, NO_channels]\n",
    "\tNO_csp -- number of spatial filters (24)\n",
    "\tReturn:\tspatial filter numpy array of size [22,NO_csp] \n",
    "\t'''\n",
    "\tN, _ = cov_matrix[0].shape \n",
    "\tn_comb = binom(NO_classes,2)\n",
    "\n",
    "\tNO_filtpairs = int(NO_csp/(n_comb*2))\n",
    "\t\n",
    "\tw = np.zeros((N,NO_csp))\n",
    "\t\n",
    "\tkk = 0 # internal counter \n",
    "\tfor cc1 in range(0,NO_classes):\n",
    "\t\tfor cc2 in range(cc1+1,NO_classes):\n",
    "\t\t\tw[:,NO_filtpairs*2*(kk):NO_filtpairs*2*(kk+1)] = gevd(cov_matrix[cc1], cov_matrix[cc2],NO_filtpairs)\n",
    "\t\t\tkk +=1\t\t\n",
    "\treturn w \n",
    "\n",
    "def generate_projection(data,class_vec,NO_csp,filter_bank,time_windows,NO_classes=4): \n",
    "\t'''\tgenerate spatial filters for every timewindow and frequancy band\n",
    "\tKeyword arguments:\n",
    "\tdata -- numpy array of size [NO_trials,channels,time_samples]\n",
    "\tclass_vec -- containing the class labels, numpy array of size [NO_trials]\n",
    "\tNO_csp -- number of spatial filters (24)\n",
    "\tfilter_bank -- numpy array containing butter sos filter coeffitions dim  [NO_bands,order,6]\n",
    "\ttime_windows -- numpy array [[start_time1,end_time1],...,[start_timeN,end_timeN]] \n",
    "\tReturn:\tspatial filter numpy array of size [NO_timewindows,NO_freqbands,22,NO_csp] \n",
    "\t'''\n",
    "\ttime_windows = time_windows.reshape((-1,2))\n",
    "\tNO_bands = filter_bank.shape[0]\n",
    "\tNO_time_windows = len(time_windows[:,0])\n",
    "\tNO_channels = len(data[0,:,0])\n",
    "\tNO_trials = class_vec.size\n",
    "\n",
    "\t# Initialize spatial filter: \n",
    "\tw = np.zeros((NO_time_windows,NO_bands,NO_channels,NO_csp))\n",
    "\t\t\n",
    "\t# iterate through all time windows \n",
    "\tfor t_wind in range(0,NO_time_windows):\n",
    "\t\t# get start and end point of current time window \n",
    "\t\tt_start = time_windows[t_wind,0]\n",
    "\t\tt_end = time_windows[t_wind,1]\n",
    "\n",
    "\t\t# iterate through all frequency bandwids \n",
    "\t\tfor subband in range(0,NO_bands): \n",
    "\n",
    "\t\t\tcov = np.zeros((NO_classes,NO_trials, NO_channels,NO_channels)) # sum of covariance depending on the class\n",
    "\t\t\tcov_avg = np.zeros((NO_classes,NO_channels,NO_channels))\n",
    "\t\t\tcov_cntr = np.zeros(NO_classes).astype(int) # counter of class occurence \n",
    "\t\t\t\t\t\n",
    "\t\t\t#go through all trials and estimate covariance matrix of every class \n",
    "\t\t\tfor trial in range(0,NO_trials):\n",
    "\t\t\t\t#frequency band of every channel\n",
    "\t\t\t\tdata_filter = butter_fir_filter(data[trial,:,t_start:t_end], filter_bank[subband])\n",
    "\t\t\t\tcur_class_idx = int(class_vec[trial]-1)\n",
    "\n",
    "\t\t\t\t# caclulate current covariance matrix \n",
    "\t\t\t\tcov[cur_class_idx,cov_cntr[cur_class_idx],:,:] = np.dot(data_filter,np.transpose(data_filter))\n",
    "\n",
    "\t\t\t\t# update covariance matrix and class counter \n",
    "\t\t\t\tcov_cntr[cur_class_idx] += 1\n",
    "\n",
    "\t\t\t# calculate average of covariance matrix \n",
    "\t\t\tfor clas in range(0,NO_classes):\n",
    "\t\t\t\tcov_avg[clas,:,:] = rie_mean.mean_covariance(cov[clas,:cov_cntr[clas],:,:], metric = 'euclid')\n",
    "\t\t\tw[t_wind,subband,:,:] = csp_one_one(cov_avg,NO_csp,NO_classes) \n",
    "\treturn w\n",
    "\n",
    "\n",
    "def generate_eye(data,class_vec,filter_bank,time_windows): \n",
    "\t'''\tgenerate unity spatial filters for every timewindow and frequancy band\n",
    "\tKeyword arguments:\n",
    "\tdata -- numpy array of size [NO_trials,channels,time_samples]\n",
    "\tclass_vec -- containing the class labels, numpy array of size [NO_trials]\n",
    "\tfilter_bank -- numpy array containing butter sos filter coeffitions dim  [NO_bands,order,6]\n",
    "\ttime_windows -- numpy array [[start_time1,end_time1],...,[start_timeN,end_timeN]] \n",
    "\tReturn:\tspatial unity filter numpy array of size [NO_timewindows,NO_freqbands,22,NO_csp] \n",
    "\t'''\n",
    "\ttime_windows = time_windows.reshape((-1,2))\n",
    "\tNO_bands = filter_bank.shape[0]\n",
    "\tNO_time_windows = len(time_windows[:,0])\n",
    "\tNO_channels = len(data[0,:,0])\n",
    "\tNO_trials = class_vec.size\n",
    "\n",
    "\t# Initialize spatial filter: \n",
    "\tw = np.zeros((NO_time_windows,NO_bands,NO_channels,NO_channels))\n",
    "\tfor t_wind in range(NO_time_windows):\n",
    "\t\tfor band in range(NO_bands):\n",
    "\t\t\tw[t_wind,band] = np.eye(NO_channels)\n",
    "\treturn w\n",
    "\n",
    "def extract_feature(data,w,filter_bank,time_windows):\n",
    "\t'''\tcalculate features using the precalculated spatial filters\n",
    "\tKeyword arguments:\n",
    "\tdata -- numpy array of size [NO_trials,channels,time_samples]\n",
    "\tw -- spatial filters, numpy array of size [NO_timewindows,NO_freqbands,22,NO_csp]\n",
    "\tfilter_bank -- numpy array containing butter sos filter coeffitions dim  [NO_bands,order,6]\n",
    "\ttime_windows -- numpy array [[start_time1,end_time1],...,[start_timeN,end_timeN]] \n",
    "\tReturn:\tfeatures, numpy array of size [NO_trials,(NO_csp*NO_bands*NO_time_windows)] \n",
    "\t'''\n",
    "\tNO_csp = len(w[0,0,0,:])\n",
    "\ttime_windows = time_windows.reshape((-1,2))\n",
    "\tNO_time_windows = int(time_windows.size/2)\n",
    "\tNO_bands = filter_bank.shape[0]\n",
    "\tNO_trials = len(data[:,0,0])\n",
    "\tNO_features = NO_csp*NO_bands*NO_time_windows\n",
    "\t\n",
    "\tfeature_mat = np.zeros((NO_trials, NO_time_windows,NO_bands,NO_csp))\n",
    "\t\n",
    "\t# initialize feature vector \n",
    "\tfeat = np.zeros((NO_time_windows,NO_bands,NO_csp))\n",
    "\n",
    "\t# go through all trials \n",
    "\tfor trial in range(0,NO_trials):\t\n",
    "\n",
    "\t\t# iterate through all time windows \n",
    "\t\tfor t_wind in range(0,NO_time_windows):\n",
    "\t\t\t# get start and end point of current time window \n",
    "\t\t\tt_start = time_windows[t_wind,0]\n",
    "\t\t\tt_end = time_windows[t_wind,1]\n",
    "\n",
    "\t\t\tfor subband in range(0,NO_bands):\n",
    "\t\t\t\t#Apply spatial Filter to data \n",
    "\t\t\t\tcur_data_s = np.dot(np.transpose(w[t_wind,subband]),data[trial,:,t_start:t_end])\n",
    "\t\t\t\t\n",
    "\t\t\t\t#frequency filtering  \n",
    "\t\t\t\tcur_data_f_s = butter_fir_filter(cur_data_s,filter_bank[subband])\n",
    "\n",
    "\t\t\t\t# calculate variance of all channels \n",
    "\t\t\t\tfeat[t_wind,subband] = np.var(cur_data_f_s,axis=1)\n",
    "\t\n",
    "\t\t\t# calculate log10 of normalized feature vector \n",
    "\t\t\n",
    "\t\t\n",
    "\t\tfor subband in range(0,NO_bands):\n",
    "\t\t\tfeat[:,subband] = np.log10(feat[:,subband])#/np.sum(feat[:,subband]))\n",
    "\n",
    "\t\t# store feature in list \t\n",
    "\t\tfeature_mat[trial,:,:,:] = feat\t\n",
    "\treturn np.reshape(feature_mat,(NO_trials,-1)) #"
   ]
  }
 ],
 "metadata": {
  "kernelspec": {
   "display_name": "Python 3 (ipykernel)",
   "language": "python",
   "name": "python3"
  },
  "language_info": {
   "codemirror_mode": {
    "name": "ipython",
    "version": 3
   },
   "file_extension": ".py",
   "mimetype": "text/x-python",
   "name": "python",
   "nbconvert_exporter": "python",
   "pygments_lexer": "ipython3",
   "version": "3.7.9"
  }
 },
 "nbformat": 4,
 "nbformat_minor": 5
}
