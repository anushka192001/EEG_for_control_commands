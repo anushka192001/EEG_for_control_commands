{
 "cells": [
  {
   "cell_type": "code",
   "execution_count": 1,
   "id": "9669a07f",
   "metadata": {},
   "outputs": [],
   "source": [
    "import pandas as pd"
   ]
  },
  {
   "cell_type": "code",
   "execution_count": 4,
   "id": "736f14df",
   "metadata": {},
   "outputs": [],
   "source": [
    "df_1 = pd.read_csv('Data/subject_1/data_1/trials.txt', header=4)"
   ]
  },
  {
   "cell_type": "code",
   "execution_count": 5,
   "id": "0f908441",
   "metadata": {},
   "outputs": [
    {
     "data": {
      "text/html": [
       "<div>\n",
       "<style scoped>\n",
       "    .dataframe tbody tr th:only-of-type {\n",
       "        vertical-align: middle;\n",
       "    }\n",
       "\n",
       "    .dataframe tbody tr th {\n",
       "        vertical-align: top;\n",
       "    }\n",
       "\n",
       "    .dataframe thead th {\n",
       "        text-align: right;\n",
       "    }\n",
       "</style>\n",
       "<table border=\"1\" class=\"dataframe\">\n",
       "  <thead>\n",
       "    <tr style=\"text-align: right;\">\n",
       "      <th></th>\n",
       "      <th>Sample Index</th>\n",
       "      <th>EXG Channel 0</th>\n",
       "      <th>EXG Channel 1</th>\n",
       "      <th>EXG Channel 2</th>\n",
       "      <th>EXG Channel 3</th>\n",
       "      <th>EXG Channel 4</th>\n",
       "      <th>EXG Channel 5</th>\n",
       "      <th>EXG Channel 6</th>\n",
       "      <th>EXG Channel 7</th>\n",
       "      <th>Accel Channel 0</th>\n",
       "      <th>...</th>\n",
       "      <th>Other.3</th>\n",
       "      <th>Other.4</th>\n",
       "      <th>Other.5</th>\n",
       "      <th>Other.6</th>\n",
       "      <th>Analog Channel 0</th>\n",
       "      <th>Analog Channel 1</th>\n",
       "      <th>Analog Channel 2</th>\n",
       "      <th>Timestamp</th>\n",
       "      <th>Other.7</th>\n",
       "      <th>Timestamp (Formatted)</th>\n",
       "    </tr>\n",
       "  </thead>\n",
       "  <tbody>\n",
       "    <tr>\n",
       "      <th>0</th>\n",
       "      <td>0.0</td>\n",
       "      <td>0.000000</td>\n",
       "      <td>0.000000</td>\n",
       "      <td>0.000000</td>\n",
       "      <td>0.000000</td>\n",
       "      <td>0.000000</td>\n",
       "      <td>0.000000</td>\n",
       "      <td>0.000000</td>\n",
       "      <td>0.000000</td>\n",
       "      <td>0.000</td>\n",
       "      <td>...</td>\n",
       "      <td>0.0</td>\n",
       "      <td>0.0</td>\n",
       "      <td>0.0</td>\n",
       "      <td>0.0</td>\n",
       "      <td>0.0</td>\n",
       "      <td>0.0</td>\n",
       "      <td>0.0</td>\n",
       "      <td>1.673700e+09</td>\n",
       "      <td>0.0</td>\n",
       "      <td>2023-01-14 18:08:15.339</td>\n",
       "    </tr>\n",
       "    <tr>\n",
       "      <th>1</th>\n",
       "      <td>1.0</td>\n",
       "      <td>-170136.427300</td>\n",
       "      <td>-171586.966108</td>\n",
       "      <td>-138593.913745</td>\n",
       "      <td>-156768.161865</td>\n",
       "      <td>-144418.465426</td>\n",
       "      <td>-133906.484712</td>\n",
       "      <td>-156130.198375</td>\n",
       "      <td>-448982.396601</td>\n",
       "      <td>-0.140</td>\n",
       "      <td>...</td>\n",
       "      <td>224.0</td>\n",
       "      <td>128.0</td>\n",
       "      <td>2.0</td>\n",
       "      <td>208.0</td>\n",
       "      <td>0.0</td>\n",
       "      <td>0.0</td>\n",
       "      <td>0.0</td>\n",
       "      <td>1.673700e+09</td>\n",
       "      <td>0.0</td>\n",
       "      <td>2023-01-14 18:08:15.355</td>\n",
       "    </tr>\n",
       "    <tr>\n",
       "      <th>2</th>\n",
       "      <td>2.0</td>\n",
       "      <td>-169766.684743</td>\n",
       "      <td>-171218.296435</td>\n",
       "      <td>-139538.721983</td>\n",
       "      <td>-156460.244234</td>\n",
       "      <td>-144747.974843</td>\n",
       "      <td>-134101.883662</td>\n",
       "      <td>-156261.894853</td>\n",
       "      <td>-448956.379170</td>\n",
       "      <td>-0.140</td>\n",
       "      <td>...</td>\n",
       "      <td>0.0</td>\n",
       "      <td>0.0</td>\n",
       "      <td>0.0</td>\n",
       "      <td>0.0</td>\n",
       "      <td>0.0</td>\n",
       "      <td>0.0</td>\n",
       "      <td>0.0</td>\n",
       "      <td>1.673700e+09</td>\n",
       "      <td>0.0</td>\n",
       "      <td>2023-01-14 18:08:15.358</td>\n",
       "    </tr>\n",
       "    <tr>\n",
       "      <th>3</th>\n",
       "      <td>3.0</td>\n",
       "      <td>-169483.041106</td>\n",
       "      <td>-170935.055129</td>\n",
       "      <td>-140971.289989</td>\n",
       "      <td>-156202.081585</td>\n",
       "      <td>-145293.402111</td>\n",
       "      <td>-134372.384473</td>\n",
       "      <td>-156367.573901</td>\n",
       "      <td>-449224.331883</td>\n",
       "      <td>-0.140</td>\n",
       "      <td>...</td>\n",
       "      <td>0.0</td>\n",
       "      <td>0.0</td>\n",
       "      <td>0.0</td>\n",
       "      <td>0.0</td>\n",
       "      <td>0.0</td>\n",
       "      <td>0.0</td>\n",
       "      <td>0.0</td>\n",
       "      <td>1.673700e+09</td>\n",
       "      <td>0.0</td>\n",
       "      <td>2023-01-14 18:08:15.362</td>\n",
       "    </tr>\n",
       "    <tr>\n",
       "      <th>4</th>\n",
       "      <td>4.0</td>\n",
       "      <td>-169704.457486</td>\n",
       "      <td>-171155.398626</td>\n",
       "      <td>-140885.325180</td>\n",
       "      <td>-156381.789611</td>\n",
       "      <td>-145292.195117</td>\n",
       "      <td>-134245.113640</td>\n",
       "      <td>-156289.655720</td>\n",
       "      <td>-448931.702844</td>\n",
       "      <td>-0.140</td>\n",
       "      <td>...</td>\n",
       "      <td>0.0</td>\n",
       "      <td>0.0</td>\n",
       "      <td>0.0</td>\n",
       "      <td>0.0</td>\n",
       "      <td>0.0</td>\n",
       "      <td>0.0</td>\n",
       "      <td>0.0</td>\n",
       "      <td>1.673700e+09</td>\n",
       "      <td>0.0</td>\n",
       "      <td>2023-01-14 18:08:15.367</td>\n",
       "    </tr>\n",
       "    <tr>\n",
       "      <th>...</th>\n",
       "      <td>...</td>\n",
       "      <td>...</td>\n",
       "      <td>...</td>\n",
       "      <td>...</td>\n",
       "      <td>...</td>\n",
       "      <td>...</td>\n",
       "      <td>...</td>\n",
       "      <td>...</td>\n",
       "      <td>...</td>\n",
       "      <td>...</td>\n",
       "      <td>...</td>\n",
       "      <td>...</td>\n",
       "      <td>...</td>\n",
       "      <td>...</td>\n",
       "      <td>...</td>\n",
       "      <td>...</td>\n",
       "      <td>...</td>\n",
       "      <td>...</td>\n",
       "      <td>...</td>\n",
       "      <td>...</td>\n",
       "      <td>...</td>\n",
       "    </tr>\n",
       "    <tr>\n",
       "      <th>108577</th>\n",
       "      <td>33.0</td>\n",
       "      <td>-153411.242772</td>\n",
       "      <td>-151025.283459</td>\n",
       "      <td>-124695.777857</td>\n",
       "      <td>-144253.241331</td>\n",
       "      <td>-123686.328374</td>\n",
       "      <td>-116255.803854</td>\n",
       "      <td>-122220.098641</td>\n",
       "      <td>-247183.158658</td>\n",
       "      <td>-0.056</td>\n",
       "      <td>...</td>\n",
       "      <td>0.0</td>\n",
       "      <td>0.0</td>\n",
       "      <td>0.0</td>\n",
       "      <td>0.0</td>\n",
       "      <td>0.0</td>\n",
       "      <td>0.0</td>\n",
       "      <td>0.0</td>\n",
       "      <td>1.673700e+09</td>\n",
       "      <td>0.0</td>\n",
       "      <td>2023-01-14 18:15:28.967</td>\n",
       "    </tr>\n",
       "    <tr>\n",
       "      <th>108578</th>\n",
       "      <td>34.0</td>\n",
       "      <td>-153124.916926</td>\n",
       "      <td>-150738.018839</td>\n",
       "      <td>-125831.291179</td>\n",
       "      <td>-143995.212793</td>\n",
       "      <td>-124381.557033</td>\n",
       "      <td>-116842.000704</td>\n",
       "      <td>-122482.955156</td>\n",
       "      <td>-247969.850656</td>\n",
       "      <td>-0.056</td>\n",
       "      <td>...</td>\n",
       "      <td>0.0</td>\n",
       "      <td>0.0</td>\n",
       "      <td>0.0</td>\n",
       "      <td>0.0</td>\n",
       "      <td>0.0</td>\n",
       "      <td>0.0</td>\n",
       "      <td>0.0</td>\n",
       "      <td>1.673700e+09</td>\n",
       "      <td>0.0</td>\n",
       "      <td>2023-01-14 18:15:28.969</td>\n",
       "    </tr>\n",
       "    <tr>\n",
       "      <th>108579</th>\n",
       "      <td>35.0</td>\n",
       "      <td>-152980.614064</td>\n",
       "      <td>-150592.508983</td>\n",
       "      <td>-126731.977073</td>\n",
       "      <td>-143857.615454</td>\n",
       "      <td>-125117.287054</td>\n",
       "      <td>-117352.827472</td>\n",
       "      <td>-122661.858518</td>\n",
       "      <td>-248913.854231</td>\n",
       "      <td>-0.056</td>\n",
       "      <td>...</td>\n",
       "      <td>0.0</td>\n",
       "      <td>0.0</td>\n",
       "      <td>0.0</td>\n",
       "      <td>0.0</td>\n",
       "      <td>0.0</td>\n",
       "      <td>0.0</td>\n",
       "      <td>0.0</td>\n",
       "      <td>1.673700e+09</td>\n",
       "      <td>0.0</td>\n",
       "      <td>2023-01-14 18:15:28.973</td>\n",
       "    </tr>\n",
       "    <tr>\n",
       "      <th>108580</th>\n",
       "      <td>36.0</td>\n",
       "      <td>-153185.937188</td>\n",
       "      <td>-150804.001189</td>\n",
       "      <td>-126105.144752</td>\n",
       "      <td>-144034.238939</td>\n",
       "      <td>-124833.911638</td>\n",
       "      <td>-117050.274259</td>\n",
       "      <td>-122473.567423</td>\n",
       "      <td>-248680.502019</td>\n",
       "      <td>-0.056</td>\n",
       "      <td>...</td>\n",
       "      <td>0.0</td>\n",
       "      <td>0.0</td>\n",
       "      <td>0.0</td>\n",
       "      <td>0.0</td>\n",
       "      <td>0.0</td>\n",
       "      <td>0.0</td>\n",
       "      <td>0.0</td>\n",
       "      <td>1.673700e+09</td>\n",
       "      <td>0.0</td>\n",
       "      <td>2023-01-14 18:15:28.977</td>\n",
       "    </tr>\n",
       "    <tr>\n",
       "      <th>108581</th>\n",
       "      <td>37.0</td>\n",
       "      <td>-153440.612965</td>\n",
       "      <td>-151066.589483</td>\n",
       "      <td>-124928.727738</td>\n",
       "      <td>-144268.932255</td>\n",
       "      <td>-124010.607482</td>\n",
       "      <td>-116435.243658</td>\n",
       "      <td>-122207.894588</td>\n",
       "      <td>-247727.647153</td>\n",
       "      <td>-0.056</td>\n",
       "      <td>...</td>\n",
       "      <td>0.0</td>\n",
       "      <td>0.0</td>\n",
       "      <td>0.0</td>\n",
       "      <td>0.0</td>\n",
       "      <td>0.0</td>\n",
       "      <td>0.0</td>\n",
       "      <td>0.0</td>\n",
       "      <td>1.673700e+09</td>\n",
       "      <td>0.0</td>\n",
       "      <td>2023-01-14 18:15:28.982</td>\n",
       "    </tr>\n",
       "  </tbody>\n",
       "</table>\n",
       "<p>108582 rows × 25 columns</p>\n",
       "</div>"
      ],
      "text/plain": [
       "        Sample Index   EXG Channel 0   EXG Channel 1   EXG Channel 2  \\\n",
       "0                0.0        0.000000        0.000000        0.000000   \n",
       "1                1.0  -170136.427300  -171586.966108  -138593.913745   \n",
       "2                2.0  -169766.684743  -171218.296435  -139538.721983   \n",
       "3                3.0  -169483.041106  -170935.055129  -140971.289989   \n",
       "4                4.0  -169704.457486  -171155.398626  -140885.325180   \n",
       "...              ...             ...             ...             ...   \n",
       "108577          33.0  -153411.242772  -151025.283459  -124695.777857   \n",
       "108578          34.0  -153124.916926  -150738.018839  -125831.291179   \n",
       "108579          35.0  -152980.614064  -150592.508983  -126731.977073   \n",
       "108580          36.0  -153185.937188  -150804.001189  -126105.144752   \n",
       "108581          37.0  -153440.612965  -151066.589483  -124928.727738   \n",
       "\n",
       "         EXG Channel 3   EXG Channel 4   EXG Channel 5   EXG Channel 6  \\\n",
       "0             0.000000        0.000000        0.000000        0.000000   \n",
       "1       -156768.161865  -144418.465426  -133906.484712  -156130.198375   \n",
       "2       -156460.244234  -144747.974843  -134101.883662  -156261.894853   \n",
       "3       -156202.081585  -145293.402111  -134372.384473  -156367.573901   \n",
       "4       -156381.789611  -145292.195117  -134245.113640  -156289.655720   \n",
       "...                ...             ...             ...             ...   \n",
       "108577  -144253.241331  -123686.328374  -116255.803854  -122220.098641   \n",
       "108578  -143995.212793  -124381.557033  -116842.000704  -122482.955156   \n",
       "108579  -143857.615454  -125117.287054  -117352.827472  -122661.858518   \n",
       "108580  -144034.238939  -124833.911638  -117050.274259  -122473.567423   \n",
       "108581  -144268.932255  -124010.607482  -116435.243658  -122207.894588   \n",
       "\n",
       "         EXG Channel 7   Accel Channel 0  ...   Other.3   Other.4   Other.5  \\\n",
       "0             0.000000             0.000  ...       0.0       0.0       0.0   \n",
       "1       -448982.396601            -0.140  ...     224.0     128.0       2.0   \n",
       "2       -448956.379170            -0.140  ...       0.0       0.0       0.0   \n",
       "3       -449224.331883            -0.140  ...       0.0       0.0       0.0   \n",
       "4       -448931.702844            -0.140  ...       0.0       0.0       0.0   \n",
       "...                ...               ...  ...       ...       ...       ...   \n",
       "108577  -247183.158658            -0.056  ...       0.0       0.0       0.0   \n",
       "108578  -247969.850656            -0.056  ...       0.0       0.0       0.0   \n",
       "108579  -248913.854231            -0.056  ...       0.0       0.0       0.0   \n",
       "108580  -248680.502019            -0.056  ...       0.0       0.0       0.0   \n",
       "108581  -247727.647153            -0.056  ...       0.0       0.0       0.0   \n",
       "\n",
       "         Other.6   Analog Channel 0   Analog Channel 1   Analog Channel 2  \\\n",
       "0            0.0                0.0                0.0                0.0   \n",
       "1          208.0                0.0                0.0                0.0   \n",
       "2            0.0                0.0                0.0                0.0   \n",
       "3            0.0                0.0                0.0                0.0   \n",
       "4            0.0                0.0                0.0                0.0   \n",
       "...          ...                ...                ...                ...   \n",
       "108577       0.0                0.0                0.0                0.0   \n",
       "108578       0.0                0.0                0.0                0.0   \n",
       "108579       0.0                0.0                0.0                0.0   \n",
       "108580       0.0                0.0                0.0                0.0   \n",
       "108581       0.0                0.0                0.0                0.0   \n",
       "\n",
       "           Timestamp   Other.7     Timestamp (Formatted)  \n",
       "0       1.673700e+09       0.0   2023-01-14 18:08:15.339  \n",
       "1       1.673700e+09       0.0   2023-01-14 18:08:15.355  \n",
       "2       1.673700e+09       0.0   2023-01-14 18:08:15.358  \n",
       "3       1.673700e+09       0.0   2023-01-14 18:08:15.362  \n",
       "4       1.673700e+09       0.0   2023-01-14 18:08:15.367  \n",
       "...              ...       ...                       ...  \n",
       "108577  1.673700e+09       0.0   2023-01-14 18:15:28.967  \n",
       "108578  1.673700e+09       0.0   2023-01-14 18:15:28.969  \n",
       "108579  1.673700e+09       0.0   2023-01-14 18:15:28.973  \n",
       "108580  1.673700e+09       0.0   2023-01-14 18:15:28.977  \n",
       "108581  1.673700e+09       0.0   2023-01-14 18:15:28.982  \n",
       "\n",
       "[108582 rows x 25 columns]"
      ]
     },
     "execution_count": 5,
     "metadata": {},
     "output_type": "execute_result"
    }
   ],
   "source": [
    "df_1"
   ]
  },
  {
   "cell_type": "code",
   "execution_count": 6,
   "id": "9bc044dd",
   "metadata": {},
   "outputs": [
    {
     "data": {
      "text/plain": [
       "Index(['Sample Index', ' EXG Channel 0', ' EXG Channel 1', ' EXG Channel 2',\n",
       "       ' EXG Channel 3', ' EXG Channel 4', ' EXG Channel 5', ' EXG Channel 6',\n",
       "       ' EXG Channel 7', ' Accel Channel 0', ' Accel Channel 1',\n",
       "       ' Accel Channel 2', ' Other', ' Other.1', ' Other.2', ' Other.3',\n",
       "       ' Other.4', ' Other.5', ' Other.6', ' Analog Channel 0',\n",
       "       ' Analog Channel 1', ' Analog Channel 2', ' Timestamp', ' Other.7',\n",
       "       ' Timestamp (Formatted)'],\n",
       "      dtype='object')"
      ]
     },
     "execution_count": 6,
     "metadata": {},
     "output_type": "execute_result"
    }
   ],
   "source": [
    "df_1.columns"
   ]
  },
  {
   "cell_type": "code",
   "execution_count": 7,
   "id": "53f9b5da",
   "metadata": {},
   "outputs": [],
   "source": [
    "df_1 = df_1[[' EXG Channel 0', ' EXG Channel 1', ' EXG Channel 2', ' EXG Channel 3', ' EXG Channel 4', ' EXG Channel 5', ' EXG Channel 6', ' EXG Channel 7', ' Timestamp']]"
   ]
  },
  {
   "cell_type": "code",
   "execution_count": 8,
   "id": "c0f3b13c",
   "metadata": {},
   "outputs": [
    {
     "data": {
      "text/plain": [
       "Index([' EXG Channel 0', ' EXG Channel 1', ' EXG Channel 2', ' EXG Channel 3',\n",
       "       ' EXG Channel 4', ' EXG Channel 5', ' EXG Channel 6', ' EXG Channel 7',\n",
       "       ' Timestamp'],\n",
       "      dtype='object')"
      ]
     },
     "execution_count": 8,
     "metadata": {},
     "output_type": "execute_result"
    }
   ],
   "source": [
    "df_1.columns"
   ]
  },
  {
   "cell_type": "code",
   "execution_count": 9,
   "id": "9e7007f5",
   "metadata": {},
   "outputs": [],
   "source": [
    "df_1 = df_1.rename(columns={\" EXG Channel 0\":\"Fp1\", \" EXG Channel 1\":\"Fp2\", \" EXG Channel 2\":\"C3\", \" EXG Channel 3\":\"C4\", \" EXG Channel 4\":\"P3\", \" EXG Channel 5\":\"P4\", \" EXG Channel 6\":\"O1\", \" EXG Channel 7\":\"O2\"})"
   ]
  },
  {
   "cell_type": "code",
   "execution_count": 10,
   "id": "f8aec404",
   "metadata": {},
   "outputs": [
    {
     "data": {
      "text/html": [
       "<div>\n",
       "<style scoped>\n",
       "    .dataframe tbody tr th:only-of-type {\n",
       "        vertical-align: middle;\n",
       "    }\n",
       "\n",
       "    .dataframe tbody tr th {\n",
       "        vertical-align: top;\n",
       "    }\n",
       "\n",
       "    .dataframe thead th {\n",
       "        text-align: right;\n",
       "    }\n",
       "</style>\n",
       "<table border=\"1\" class=\"dataframe\">\n",
       "  <thead>\n",
       "    <tr style=\"text-align: right;\">\n",
       "      <th></th>\n",
       "      <th>Fp1</th>\n",
       "      <th>Fp2</th>\n",
       "      <th>C3</th>\n",
       "      <th>C4</th>\n",
       "      <th>P3</th>\n",
       "      <th>P4</th>\n",
       "      <th>O1</th>\n",
       "      <th>O2</th>\n",
       "      <th>Timestamp</th>\n",
       "    </tr>\n",
       "  </thead>\n",
       "  <tbody>\n",
       "    <tr>\n",
       "      <th>0</th>\n",
       "      <td>0.000000</td>\n",
       "      <td>0.000000</td>\n",
       "      <td>0.000000</td>\n",
       "      <td>0.000000</td>\n",
       "      <td>0.000000</td>\n",
       "      <td>0.000000</td>\n",
       "      <td>0.000000</td>\n",
       "      <td>0.000000</td>\n",
       "      <td>1.673700e+09</td>\n",
       "    </tr>\n",
       "    <tr>\n",
       "      <th>1</th>\n",
       "      <td>-170136.427300</td>\n",
       "      <td>-171586.966108</td>\n",
       "      <td>-138593.913745</td>\n",
       "      <td>-156768.161865</td>\n",
       "      <td>-144418.465426</td>\n",
       "      <td>-133906.484712</td>\n",
       "      <td>-156130.198375</td>\n",
       "      <td>-448982.396601</td>\n",
       "      <td>1.673700e+09</td>\n",
       "    </tr>\n",
       "    <tr>\n",
       "      <th>2</th>\n",
       "      <td>-169766.684743</td>\n",
       "      <td>-171218.296435</td>\n",
       "      <td>-139538.721983</td>\n",
       "      <td>-156460.244234</td>\n",
       "      <td>-144747.974843</td>\n",
       "      <td>-134101.883662</td>\n",
       "      <td>-156261.894853</td>\n",
       "      <td>-448956.379170</td>\n",
       "      <td>1.673700e+09</td>\n",
       "    </tr>\n",
       "    <tr>\n",
       "      <th>3</th>\n",
       "      <td>-169483.041106</td>\n",
       "      <td>-170935.055129</td>\n",
       "      <td>-140971.289989</td>\n",
       "      <td>-156202.081585</td>\n",
       "      <td>-145293.402111</td>\n",
       "      <td>-134372.384473</td>\n",
       "      <td>-156367.573901</td>\n",
       "      <td>-449224.331883</td>\n",
       "      <td>1.673700e+09</td>\n",
       "    </tr>\n",
       "    <tr>\n",
       "      <th>4</th>\n",
       "      <td>-169704.457486</td>\n",
       "      <td>-171155.398626</td>\n",
       "      <td>-140885.325180</td>\n",
       "      <td>-156381.789611</td>\n",
       "      <td>-145292.195117</td>\n",
       "      <td>-134245.113640</td>\n",
       "      <td>-156289.655720</td>\n",
       "      <td>-448931.702844</td>\n",
       "      <td>1.673700e+09</td>\n",
       "    </tr>\n",
       "    <tr>\n",
       "      <th>...</th>\n",
       "      <td>...</td>\n",
       "      <td>...</td>\n",
       "      <td>...</td>\n",
       "      <td>...</td>\n",
       "      <td>...</td>\n",
       "      <td>...</td>\n",
       "      <td>...</td>\n",
       "      <td>...</td>\n",
       "      <td>...</td>\n",
       "    </tr>\n",
       "    <tr>\n",
       "      <th>108577</th>\n",
       "      <td>-153411.242772</td>\n",
       "      <td>-151025.283459</td>\n",
       "      <td>-124695.777857</td>\n",
       "      <td>-144253.241331</td>\n",
       "      <td>-123686.328374</td>\n",
       "      <td>-116255.803854</td>\n",
       "      <td>-122220.098641</td>\n",
       "      <td>-247183.158658</td>\n",
       "      <td>1.673700e+09</td>\n",
       "    </tr>\n",
       "    <tr>\n",
       "      <th>108578</th>\n",
       "      <td>-153124.916926</td>\n",
       "      <td>-150738.018839</td>\n",
       "      <td>-125831.291179</td>\n",
       "      <td>-143995.212793</td>\n",
       "      <td>-124381.557033</td>\n",
       "      <td>-116842.000704</td>\n",
       "      <td>-122482.955156</td>\n",
       "      <td>-247969.850656</td>\n",
       "      <td>1.673700e+09</td>\n",
       "    </tr>\n",
       "    <tr>\n",
       "      <th>108579</th>\n",
       "      <td>-152980.614064</td>\n",
       "      <td>-150592.508983</td>\n",
       "      <td>-126731.977073</td>\n",
       "      <td>-143857.615454</td>\n",
       "      <td>-125117.287054</td>\n",
       "      <td>-117352.827472</td>\n",
       "      <td>-122661.858518</td>\n",
       "      <td>-248913.854231</td>\n",
       "      <td>1.673700e+09</td>\n",
       "    </tr>\n",
       "    <tr>\n",
       "      <th>108580</th>\n",
       "      <td>-153185.937188</td>\n",
       "      <td>-150804.001189</td>\n",
       "      <td>-126105.144752</td>\n",
       "      <td>-144034.238939</td>\n",
       "      <td>-124833.911638</td>\n",
       "      <td>-117050.274259</td>\n",
       "      <td>-122473.567423</td>\n",
       "      <td>-248680.502019</td>\n",
       "      <td>1.673700e+09</td>\n",
       "    </tr>\n",
       "    <tr>\n",
       "      <th>108581</th>\n",
       "      <td>-153440.612965</td>\n",
       "      <td>-151066.589483</td>\n",
       "      <td>-124928.727738</td>\n",
       "      <td>-144268.932255</td>\n",
       "      <td>-124010.607482</td>\n",
       "      <td>-116435.243658</td>\n",
       "      <td>-122207.894588</td>\n",
       "      <td>-247727.647153</td>\n",
       "      <td>1.673700e+09</td>\n",
       "    </tr>\n",
       "  </tbody>\n",
       "</table>\n",
       "<p>108582 rows × 9 columns</p>\n",
       "</div>"
      ],
      "text/plain": [
       "                  Fp1            Fp2             C3             C4  \\\n",
       "0            0.000000       0.000000       0.000000       0.000000   \n",
       "1      -170136.427300 -171586.966108 -138593.913745 -156768.161865   \n",
       "2      -169766.684743 -171218.296435 -139538.721983 -156460.244234   \n",
       "3      -169483.041106 -170935.055129 -140971.289989 -156202.081585   \n",
       "4      -169704.457486 -171155.398626 -140885.325180 -156381.789611   \n",
       "...               ...            ...            ...            ...   \n",
       "108577 -153411.242772 -151025.283459 -124695.777857 -144253.241331   \n",
       "108578 -153124.916926 -150738.018839 -125831.291179 -143995.212793   \n",
       "108579 -152980.614064 -150592.508983 -126731.977073 -143857.615454   \n",
       "108580 -153185.937188 -150804.001189 -126105.144752 -144034.238939   \n",
       "108581 -153440.612965 -151066.589483 -124928.727738 -144268.932255   \n",
       "\n",
       "                   P3             P4             O1             O2  \\\n",
       "0            0.000000       0.000000       0.000000       0.000000   \n",
       "1      -144418.465426 -133906.484712 -156130.198375 -448982.396601   \n",
       "2      -144747.974843 -134101.883662 -156261.894853 -448956.379170   \n",
       "3      -145293.402111 -134372.384473 -156367.573901 -449224.331883   \n",
       "4      -145292.195117 -134245.113640 -156289.655720 -448931.702844   \n",
       "...               ...            ...            ...            ...   \n",
       "108577 -123686.328374 -116255.803854 -122220.098641 -247183.158658   \n",
       "108578 -124381.557033 -116842.000704 -122482.955156 -247969.850656   \n",
       "108579 -125117.287054 -117352.827472 -122661.858518 -248913.854231   \n",
       "108580 -124833.911638 -117050.274259 -122473.567423 -248680.502019   \n",
       "108581 -124010.607482 -116435.243658 -122207.894588 -247727.647153   \n",
       "\n",
       "           Timestamp  \n",
       "0       1.673700e+09  \n",
       "1       1.673700e+09  \n",
       "2       1.673700e+09  \n",
       "3       1.673700e+09  \n",
       "4       1.673700e+09  \n",
       "...              ...  \n",
       "108577  1.673700e+09  \n",
       "108578  1.673700e+09  \n",
       "108579  1.673700e+09  \n",
       "108580  1.673700e+09  \n",
       "108581  1.673700e+09  \n",
       "\n",
       "[108582 rows x 9 columns]"
      ]
     },
     "execution_count": 10,
     "metadata": {},
     "output_type": "execute_result"
    }
   ],
   "source": [
    "df_1"
   ]
  },
  {
   "cell_type": "code",
   "execution_count": 11,
   "id": "b838474b",
   "metadata": {},
   "outputs": [],
   "source": [
    "import numpy as np"
   ]
  },
  {
   "cell_type": "code",
   "execution_count": 12,
   "id": "2cb58f2d",
   "metadata": {},
   "outputs": [],
   "source": [
    "# S = (4500000)/24/(2**23-1) #uV/count"
   ]
  },
  {
   "cell_type": "code",
   "execution_count": 13,
   "id": "129e60c4",
   "metadata": {},
   "outputs": [],
   "source": [
    "import matplotlib.pyplot as plt"
   ]
  },
  {
   "cell_type": "code",
   "execution_count": 14,
   "id": "34725664",
   "metadata": {},
   "outputs": [],
   "source": [
    "data = df_1.to_numpy().T"
   ]
  },
  {
   "cell_type": "code",
   "execution_count": 15,
   "id": "1f1fca3d",
   "metadata": {},
   "outputs": [
    {
     "data": {
      "text/plain": [
       "array([[ 0.00000000e+00, -1.70136427e+05, -1.69766685e+05, ...,\n",
       "        -1.52980614e+05, -1.53185937e+05, -1.53440613e+05],\n",
       "       [ 0.00000000e+00, -1.71586966e+05, -1.71218296e+05, ...,\n",
       "        -1.50592509e+05, -1.50804001e+05, -1.51066589e+05],\n",
       "       [ 0.00000000e+00, -1.38593914e+05, -1.39538722e+05, ...,\n",
       "        -1.26731977e+05, -1.26105145e+05, -1.24928728e+05],\n",
       "       ...,\n",
       "       [ 0.00000000e+00, -1.56130198e+05, -1.56261895e+05, ...,\n",
       "        -1.22661859e+05, -1.22473567e+05, -1.22207895e+05],\n",
       "       [ 0.00000000e+00, -4.48982397e+05, -4.48956379e+05, ...,\n",
       "        -2.48913854e+05, -2.48680502e+05, -2.47727647e+05],\n",
       "       [ 1.67369990e+09,  1.67369990e+09,  1.67369990e+09, ...,\n",
       "         1.67370033e+09,  1.67370033e+09,  1.67370033e+09]])"
      ]
     },
     "execution_count": 15,
     "metadata": {},
     "output_type": "execute_result"
    }
   ],
   "source": [
    "data"
   ]
  },
  {
   "cell_type": "code",
   "execution_count": 16,
   "id": "1263e7b3",
   "metadata": {},
   "outputs": [
    {
     "data": {
      "text/plain": [
       "array([      0.        , -170136.42729955, -169766.68474277, ...,\n",
       "       -152980.61406381, -153185.93718838, -153440.6129647 ])"
      ]
     },
     "execution_count": 16,
     "metadata": {},
     "output_type": "execute_result"
    }
   ],
   "source": [
    "data[0]"
   ]
  },
  {
   "cell_type": "code",
   "execution_count": 17,
   "id": "41837803",
   "metadata": {},
   "outputs": [
    {
     "data": {
      "text/plain": [
       "(9, 108582)"
      ]
     },
     "execution_count": 17,
     "metadata": {},
     "output_type": "execute_result"
    }
   ],
   "source": [
    "data.shape"
   ]
  },
  {
   "cell_type": "code",
   "execution_count": 18,
   "id": "48aef0bc",
   "metadata": {},
   "outputs": [
    {
     "data": {
      "text/plain": [
       "[<matplotlib.lines.Line2D at 0x2a54d390cc8>]"
      ]
     },
     "execution_count": 18,
     "metadata": {},
     "output_type": "execute_result"
    },
    {
     "data": {
      "image/png": "[encoded data removed]",
      "text/plain": [
       "<Figure size 432x288 with 1 Axes>"
      ]
     },
     "metadata": {
      "needs_background": "light"
     },
     "output_type": "display_data"
    }
   ],
   "source": [
    "plt.plot(data[0,1:2000])\n",
    "plt.plot(data[1,1:2000])\n",
    "plt.plot(data[2,1:2000])\n",
    "plt.plot(data[3,1:2000])\n",
    "plt.plot(data[4,1:2000])\n",
    "plt.plot(data[5,1:2000])\n",
    "plt.plot(data[6,1:2000])\n",
    "#plt.plot(data[7,1:2000])"
   ]
  },
  {
   "cell_type": "code",
   "execution_count": 19,
   "id": "6f3e1e70",
   "metadata": {},
   "outputs": [
    {
     "data": {
      "text/plain": [
       "[<matplotlib.lines.Line2D at 0x2a54d4d0b88>]"
      ]
     },
     "execution_count": 19,
     "metadata": {},
     "output_type": "execute_result"
    },
    {
     "data": {
      "image/png": "[encoded data removed]",
      "text/plain": [
       "<Figure size 432x288 with 1 Axes>"
      ]
     },
     "metadata": {
      "needs_background": "light"
     },
     "output_type": "display_data"
    }
   ],
   "source": [
    "plt.plot(data[0])\n",
    "plt.plot(data[1])\n",
    "plt.plot(data[2])\n",
    "plt.plot(data[3])\n",
    "plt.plot(data[4])\n",
    "plt.plot(data[5])\n",
    "plt.plot(data[6])\n",
    "#plt.plot(data[7,1:2000])"
   ]
  },
  {
   "cell_type": "code",
   "execution_count": 20,
   "id": "73a82cda",
   "metadata": {},
   "outputs": [],
   "source": [
    "eeg_data = data[:8,:]"
   ]
  },
  {
   "cell_type": "code",
   "execution_count": 21,
   "id": "413fc206",
   "metadata": {},
   "outputs": [],
   "source": [
    "time_stamp = data[8,:]"
   ]
  },
  {
   "cell_type": "code",
   "execution_count": 22,
   "id": "bdcb8356",
   "metadata": {},
   "outputs": [
    {
     "data": {
      "text/plain": [
       "(8, 108582)"
      ]
     },
     "execution_count": 22,
     "metadata": {},
     "output_type": "execute_result"
    }
   ],
   "source": [
    "eeg_data.shape"
   ]
  },
  {
   "cell_type": "code",
   "execution_count": 23,
   "id": "07ce0d4f",
   "metadata": {},
   "outputs": [
    {
     "data": {
      "text/plain": [
       "(108582,)"
      ]
     },
     "execution_count": 23,
     "metadata": {},
     "output_type": "execute_result"
    }
   ],
   "source": [
    "time_stamp.shape"
   ]
  },
  {
   "cell_type": "code",
   "execution_count": 24,
   "id": "6b53a6c3",
   "metadata": {},
   "outputs": [],
   "source": [
    "events_df = pd.read_csv('Data/subject_1/data_1/events.txt', header=None)"
   ]
  },
  {
   "cell_type": "code",
   "execution_count": 25,
   "id": "a159305e",
   "metadata": {},
   "outputs": [
    {
     "data": {
      "text/html": [
       "<div>\n",
       "<style scoped>\n",
       "    .dataframe tbody tr th:only-of-type {\n",
       "        vertical-align: middle;\n",
       "    }\n",
       "\n",
       "    .dataframe tbody tr th {\n",
       "        vertical-align: top;\n",
       "    }\n",
       "\n",
       "    .dataframe thead th {\n",
       "        text-align: right;\n",
       "    }\n",
       "</style>\n",
       "<table border=\"1\" class=\"dataframe\">\n",
       "  <thead>\n",
       "    <tr style=\"text-align: right;\">\n",
       "      <th></th>\n",
       "      <th>0</th>\n",
       "      <th>1</th>\n",
       "    </tr>\n",
       "  </thead>\n",
       "  <tbody>\n",
       "    <tr>\n",
       "      <th>0</th>\n",
       "      <td>1.673700e+09</td>\n",
       "      <td>start</td>\n",
       "    </tr>\n",
       "    <tr>\n",
       "      <th>1</th>\n",
       "      <td>1.673700e+09</td>\n",
       "      <td>baseline</td>\n",
       "    </tr>\n",
       "    <tr>\n",
       "      <th>2</th>\n",
       "      <td>1.673700e+09</td>\n",
       "      <td>red</td>\n",
       "    </tr>\n",
       "    <tr>\n",
       "      <th>3</th>\n",
       "      <td>1.673700e+09</td>\n",
       "      <td>fixation</td>\n",
       "    </tr>\n",
       "    <tr>\n",
       "      <th>4</th>\n",
       "      <td>1.673700e+09</td>\n",
       "      <td>red</td>\n",
       "    </tr>\n",
       "    <tr>\n",
       "      <th>...</th>\n",
       "      <td>...</td>\n",
       "      <td>...</td>\n",
       "    </tr>\n",
       "    <tr>\n",
       "      <th>97</th>\n",
       "      <td>1.673700e+09</td>\n",
       "      <td>fixation</td>\n",
       "    </tr>\n",
       "    <tr>\n",
       "      <th>98</th>\n",
       "      <td>1.673700e+09</td>\n",
       "      <td>red</td>\n",
       "    </tr>\n",
       "    <tr>\n",
       "      <th>99</th>\n",
       "      <td>1.673700e+09</td>\n",
       "      <td>fixation</td>\n",
       "    </tr>\n",
       "    <tr>\n",
       "      <th>100</th>\n",
       "      <td>1.673700e+09</td>\n",
       "      <td>white</td>\n",
       "    </tr>\n",
       "    <tr>\n",
       "      <th>101</th>\n",
       "      <td>1.673700e+09</td>\n",
       "      <td>fixation</td>\n",
       "    </tr>\n",
       "  </tbody>\n",
       "</table>\n",
       "<p>102 rows × 2 columns</p>\n",
       "</div>"
      ],
      "text/plain": [
       "                0         1\n",
       "0    1.673700e+09     start\n",
       "1    1.673700e+09  baseline\n",
       "2    1.673700e+09       red\n",
       "3    1.673700e+09  fixation\n",
       "4    1.673700e+09       red\n",
       "..            ...       ...\n",
       "97   1.673700e+09  fixation\n",
       "98   1.673700e+09       red\n",
       "99   1.673700e+09  fixation\n",
       "100  1.673700e+09     white\n",
       "101  1.673700e+09  fixation\n",
       "\n",
       "[102 rows x 2 columns]"
      ]
     },
     "execution_count": 25,
     "metadata": {},
     "output_type": "execute_result"
    }
   ],
   "source": [
    "events_df"
   ]
  },
  {
   "cell_type": "code",
   "execution_count": 26,
   "id": "f72b24d0",
   "metadata": {},
   "outputs": [],
   "source": [
    "import numpy as np"
   ]
  },
  {
   "cell_type": "code",
   "execution_count": 27,
   "id": "251267c0",
   "metadata": {},
   "outputs": [],
   "source": [
    "events = np.array(events_df)"
   ]
  },
  {
   "cell_type": "code",
   "execution_count": 28,
   "id": "dbed7dfd",
   "metadata": {},
   "outputs": [
    {
     "data": {
      "text/plain": [
       "numpy.float64"
      ]
     },
     "execution_count": 28,
     "metadata": {},
     "output_type": "execute_result"
    }
   ],
   "source": [
    "type(time_stamp[0])"
   ]
  },
  {
   "cell_type": "code",
   "execution_count": 29,
   "id": "25584aab",
   "metadata": {},
   "outputs": [
    {
     "data": {
      "text/plain": [
       "(102, 2)"
      ]
     },
     "execution_count": 29,
     "metadata": {},
     "output_type": "execute_result"
    }
   ],
   "source": [
    "events.shape"
   ]
  },
  {
   "cell_type": "code",
   "execution_count": 30,
   "id": "f1f6420e",
   "metadata": {},
   "outputs": [],
   "source": [
    "def find_closest(arr, val):\n",
    "       idx = np.abs(arr - val).argmin()\n",
    "       return (arr[idx] , idx)"
   ]
  },
  {
   "cell_type": "code",
   "execution_count": 31,
   "id": "6e60c66a",
   "metadata": {},
   "outputs": [
    {
     "data": {
      "text/plain": [
       "(1673699962.6528015, 16851)"
      ]
     },
     "execution_count": 31,
     "metadata": {},
     "output_type": "execute_result"
    }
   ],
   "source": [
    "find_closest(time_stamp, events[1,0])"
   ]
  },
  {
   "cell_type": "code",
   "execution_count": 32,
   "id": "a995bb08",
   "metadata": {},
   "outputs": [
    {
     "name": "stdout",
     "output_type": "stream",
     "text": [
      "[1.67369996e+09 1.67369996e+09 1.67369997e+09 1.67369998e+09\n",
      " 1.67369998e+09 1.67369998e+09 1.67369999e+09 1.67369999e+09\n",
      " 1.67369999e+09 1.67370000e+09 1.67370000e+09 1.67370001e+09\n",
      " 1.67370001e+09 1.67370001e+09 1.67370001e+09 1.67370002e+09\n",
      " 1.67370002e+09 1.67370003e+09 1.67370003e+09 1.67370003e+09\n",
      " 1.67370004e+09 1.67370004e+09 1.67370004e+09 1.67370005e+09\n",
      " 1.67370005e+09 1.67370005e+09 1.67370006e+09 1.67370006e+09\n",
      " 1.67370006e+09 1.67370007e+09 1.67370007e+09 1.67370008e+09\n",
      " 1.67370008e+09 1.67370008e+09 1.67370008e+09 1.67370009e+09\n",
      " 1.67370009e+09 1.67370010e+09 1.67370010e+09 1.67370010e+09\n",
      " 1.67370011e+09 1.67370011e+09 1.67370011e+09 1.67370012e+09\n",
      " 1.67370012e+09 1.67370012e+09 1.67370013e+09 1.67370013e+09\n",
      " 1.67370013e+09 1.67370014e+09 1.67370014e+09 1.67370015e+09\n",
      " 1.67370015e+09 1.67370015e+09 1.67370015e+09 1.67370016e+09\n",
      " 1.67370016e+09 1.67370017e+09 1.67370017e+09 1.67370017e+09\n",
      " 1.67370018e+09 1.67370018e+09 1.67370018e+09 1.67370019e+09\n",
      " 1.67370019e+09 1.67370020e+09 1.67370020e+09 1.67370020e+09\n",
      " 1.67370020e+09 1.67370021e+09 1.67370021e+09 1.67370022e+09\n",
      " 1.67370022e+09 1.67370022e+09 1.67370023e+09 1.67370023e+09\n",
      " 1.67370023e+09 1.67370024e+09 1.67370024e+09 1.67370024e+09\n",
      " 1.67370025e+09 1.67370025e+09 1.67370025e+09 1.67370026e+09\n",
      " 1.67370026e+09 1.67370027e+09 1.67370027e+09 1.67370027e+09\n",
      " 1.67370027e+09 1.67370028e+09 1.67370028e+09 1.67370029e+09\n",
      " 1.67370029e+09 1.67370029e+09 1.67370030e+09 1.67370030e+09\n",
      " 1.67370030e+09 1.67370031e+09 1.67370031e+09 1.67370031e+09\n",
      " 1.67370032e+09 1.67370032e+09]\n",
      "[ 16834.  16851.  19354.  20607.  21113.  22365.  22871.  24122.  24624.\n",
      "  25880.  26385.  27634.  28138.  29390.  29889.  31146.  31645.  32899.\n",
      "  33402.  34655.  35157.  36410.  36913.  38164.  38669.  39917.  40419.\n",
      "  41674.  42180.  43430.  43933.  45188.  45692.  46949.  47450.  48699.\n",
      "  49202.  50455.  50954.  52206.  52706.  53958.  54461.  55714.  56216.\n",
      "  57474.  57977.  59235.  59733.  60988.  61486.  62740.  63246.  64499.\n",
      "  65005.  66257.  66760.  68015.  68519.  69773.  70277.  71528.  72030.\n",
      "  73282.  73787.  75040.  75543.  76796.  77300.  78550.  79051.  80301.\n",
      "  80806.  82056.  82558.  83807.  84310.  85564.  86071.  87327.  87826.\n",
      "  89079.  89581.  90831.  91336.  92587.  93092.  94349.  94854.  96108.\n",
      "  96607.  97862.  98364.  99620. 100123. 101381. 101883. 103135. 103644.\n",
      " 104895. 105394. 106646.]\n"
     ]
    }
   ],
   "source": [
    "closest_stamps_vals = np.zeros(len(events))\n",
    "closest_stamps_ids = np.zeros(len(events))\n",
    "event_labels = []\n",
    "\n",
    "for i in range(len(events)):\n",
    "    closest_stamps_vals[i] = find_closest(time_stamp, events[i,0])[0]\n",
    "    closest_stamps_ids[i] = find_closest(time_stamp, events[i,0])[1]\n",
    "    event_labels.append(events[i,1])\n",
    "print(closest_stamps_vals)\n",
    "print(closest_stamps_ids)"
   ]
  },
  {
   "cell_type": "code",
   "execution_count": 33,
   "id": "9d37d873",
   "metadata": {},
   "outputs": [
    {
     "data": {
      "text/plain": [
       "array([ 16834.,  16851.,  19354.,  20607.,  21113.,  22365.,  22871.,\n",
       "        24122.,  24624.,  25880.,  26385.,  27634.,  28138.,  29390.,\n",
       "        29889.,  31146.,  31645.,  32899.,  33402.,  34655.,  35157.,\n",
       "        36410.,  36913.,  38164.,  38669.,  39917.,  40419.,  41674.,\n",
       "        42180.,  43430.,  43933.,  45188.,  45692.,  46949.,  47450.,\n",
       "        48699.,  49202.,  50455.,  50954.,  52206.,  52706.,  53958.,\n",
       "        54461.,  55714.,  56216.,  57474.,  57977.,  59235.,  59733.,\n",
       "        60988.,  61486.,  62740.,  63246.,  64499.,  65005.,  66257.,\n",
       "        66760.,  68015.,  68519.,  69773.,  70277.,  71528.,  72030.,\n",
       "        73282.,  73787.,  75040.,  75543.,  76796.,  77300.,  78550.,\n",
       "        79051.,  80301.,  80806.,  82056.,  82558.,  83807.,  84310.,\n",
       "        85564.,  86071.,  87327.,  87826.,  89079.,  89581.,  90831.,\n",
       "        91336.,  92587.,  93092.,  94349.,  94854.,  96108.,  96607.,\n",
       "        97862.,  98364.,  99620., 100123., 101381., 101883., 103135.,\n",
       "       103644., 104895., 105394., 106646.])"
      ]
     },
     "execution_count": 33,
     "metadata": {},
     "output_type": "execute_result"
    }
   ],
   "source": [
    "closest_stamps_ids"
   ]
  },
  {
   "cell_type": "code",
   "execution_count": 34,
   "id": "634ac6cc",
   "metadata": {},
   "outputs": [
    {
     "data": {
      "text/plain": [
       "['start',\n",
       " 'baseline',\n",
       " 'red',\n",
       " 'fixation',\n",
       " 'red',\n",
       " 'fixation',\n",
       " 'white',\n",
       " 'fixation',\n",
       " 'red',\n",
       " 'fixation',\n",
       " 'white',\n",
       " 'fixation',\n",
       " 'white',\n",
       " 'fixation',\n",
       " 'red',\n",
       " 'fixation',\n",
       " 'white',\n",
       " 'fixation',\n",
       " 'red',\n",
       " 'fixation',\n",
       " 'white',\n",
       " 'fixation',\n",
       " 'white',\n",
       " 'fixation',\n",
       " 'red',\n",
       " 'fixation',\n",
       " 'white',\n",
       " 'fixation',\n",
       " 'red',\n",
       " 'fixation',\n",
       " 'red',\n",
       " 'fixation',\n",
       " 'white',\n",
       " 'fixation',\n",
       " 'red',\n",
       " 'fixation',\n",
       " 'red',\n",
       " 'fixation',\n",
       " 'white',\n",
       " 'fixation',\n",
       " 'white',\n",
       " 'fixation',\n",
       " 'red',\n",
       " 'fixation',\n",
       " 'white',\n",
       " 'fixation',\n",
       " 'white',\n",
       " 'fixation',\n",
       " 'red',\n",
       " 'fixation',\n",
       " 'red',\n",
       " 'fixation',\n",
       " 'white',\n",
       " 'fixation',\n",
       " 'white',\n",
       " 'fixation',\n",
       " 'red',\n",
       " 'fixation',\n",
       " 'white',\n",
       " 'fixation',\n",
       " 'red',\n",
       " 'fixation',\n",
       " 'red',\n",
       " 'fixation',\n",
       " 'white',\n",
       " 'fixation',\n",
       " 'red',\n",
       " 'fixation',\n",
       " 'red',\n",
       " 'fixation',\n",
       " 'white',\n",
       " 'fixation',\n",
       " 'red',\n",
       " 'fixation',\n",
       " 'white',\n",
       " 'fixation',\n",
       " 'red',\n",
       " 'fixation',\n",
       " 'white',\n",
       " 'fixation',\n",
       " 'white',\n",
       " 'fixation',\n",
       " 'red',\n",
       " 'fixation',\n",
       " 'white',\n",
       " 'fixation',\n",
       " 'white',\n",
       " 'fixation',\n",
       " 'red',\n",
       " 'fixation',\n",
       " 'white',\n",
       " 'fixation',\n",
       " 'red',\n",
       " 'fixation',\n",
       " 'white',\n",
       " 'fixation',\n",
       " 'red',\n",
       " 'fixation',\n",
       " 'red',\n",
       " 'fixation',\n",
       " 'white',\n",
       " 'fixation']"
      ]
     },
     "execution_count": 34,
     "metadata": {},
     "output_type": "execute_result"
    }
   ],
   "source": [
    "event_labels"
   ]
  },
  {
   "cell_type": "code",
   "execution_count": 35,
   "id": "4995d106",
   "metadata": {},
   "outputs": [
    {
     "data": {
      "text/plain": [
       "102"
      ]
     },
     "execution_count": 35,
     "metadata": {},
     "output_type": "execute_result"
    }
   ],
   "source": [
    "len(event_labels)"
   ]
  },
  {
   "cell_type": "code",
   "execution_count": 46,
   "id": "1252d75e",
   "metadata": {},
   "outputs": [],
   "source": [
    "red_data = np.zeros((8,125,250))\n",
    "white_data = np.zeros((8,125,250))\n",
    "rrc = 0   #red row count\n",
    "wrc = 0   #white row count"
   ]
  },
  {
   "cell_type": "code",
   "execution_count": 47,
   "id": "e5fa7c1b",
   "metadata": {},
   "outputs": [],
   "source": [
    "for i,image in enumerate(closest_stamps_ids):\n",
    "    if event_labels[i] == 'red':\n",
    "        for j in range(5):\n",
    "            for k in range(8):\n",
    "                red_data[k][rrc] = eeg_data[k][int(closest_stamps_ids[i]+j*256):int(closest_stamps_ids[i])+j*256+250]            \n",
    "            rrc = rrc + 1   \n",
    "                \n",
    "                \n",
    "    if event_labels[i] == 'white':\n",
    "        for j in range(5):\n",
    "            for k in range(8):\n",
    "                white_data[k][wrc] = eeg_data[k][int(closest_stamps_ids[i]+j*256):int(closest_stamps_ids[i])+j*256+250]            \n",
    "            wrc = wrc + 1\n",
    "                        \n",
    "rrc=0\n",
    "wrc=0"
   ]
  },
  {
   "cell_type": "code",
   "execution_count": 48,
   "id": "ec9112fe",
   "metadata": {},
   "outputs": [
    {
     "data": {
      "text/plain": [
       "array([[[-164092.06856395, -164142.6282099 , -164336.1496134 , ...,\n",
       "         -164474.819836  , -164306.64531072, -164074.76831374],\n",
       "        [-164270.56959517, -164437.00068438, -164273.38591497, ...,\n",
       "         -163993.22914996, -163914.50630599, -164216.52307707],\n",
       "        [-164327.43243306, -163985.04841149, -163940.52373654, ...,\n",
       "         -163968.82104502, -164253.13523449, -164177.63104172],\n",
       "        ...,\n",
       "        [-153473.60413952, -153557.55729169, -153890.68769106, ...,\n",
       "         -153712.99132264, -153991.13643064, -153885.72560379],\n",
       "        [-153431.62756343, -153666.99143255, -153959.75458142, ...,\n",
       "         -153730.15746238, -153856.75774297, -153557.42318123],\n",
       "        [-153405.20780149, -153731.90089844, -153879.28830138, ...,\n",
       "         -153794.26226548, -153661.22468248, -153352.23416713]],\n",
       "\n",
       "       [[-165063.96711635, -165121.36639611, -165315.82657287, ...,\n",
       "         -165416.00709152, -165249.17367091, -165024.2704182 ],\n",
       "        [-165218.32826356, -165384.22291091, -165226.6431125 , ...,\n",
       "         -164966.06647564, -164885.06375373, -165155.16223373],\n",
       "        [-165282.16484572, -164950.37555103, -164897.2678062 , ...,\n",
       "         -164927.84499262, -165224.36323456, -165157.57622213],\n",
       "        ...,\n",
       "        [-150987.19608631, -151077.98887229, -151377.59165497, ...,\n",
       "         -151239.72609517, -151513.17733683, -151405.88896345],\n",
       "        [-150962.2515395 , -151204.32093195, -151502.04616809, ...,\n",
       "         -151292.02917719, -151406.29129485, -151107.89550637],\n",
       "        [-150954.07080103, -151285.59187479, -151436.19792893, ...,\n",
       "         -151355.32931749, -151233.9593451 , -150910.61900981]],\n",
       "\n",
       "       [[-136747.48083919, -136823.11914243, -136156.0536809 , ...,\n",
       "         -134172.29165701, -134459.42216628, -135381.02929366],\n",
       "        [-135148.61585481, -134368.89760123, -134713.82972167, ...,\n",
       "         -135537.6703188 , -136193.47050112, -135425.01752675],\n",
       "        [-134398.93834578, -135609.4194185 , -136196.68915232, ...,\n",
       "         -136241.21382728, -135122.8666452 , -134993.71826574],\n",
       "        ...,\n",
       "        [-127388.71602878, -127350.89687716, -126117.34880416, ...,\n",
       "         -126566.48475724, -125232.89027606, -125317.11164917],\n",
       "        [-127386.43615084, -126541.80843136, -125231.01272953, ...,\n",
       "         -126054.71921619, -125242.94856107, -126188.02502013],\n",
       "        [-127303.82410333, -126072.4217978 , -125229.53751439, ...,\n",
       "         -125277.95139288, -125453.50199384, -126789.37635295]],\n",
       "\n",
       "       ...,\n",
       "\n",
       "       [[-121758.89274584, -121796.84600792, -121562.15269114, ...,\n",
       "         -120998.08406807, -121088.20630171, -121385.26098552],\n",
       "        [-121537.7445862 , -121316.73053702, -121460.63106783, ...,\n",
       "         -121018.06652761, -121260.0018096 , -121014.84787641],\n",
       "        [-120627.13451709, -121037.24432436, -121265.09800733, ...,\n",
       "         -121857.73215982, -121470.95757377, -121406.18221833],\n",
       "        ...,\n",
       "        [-117451.53277535, -117542.99611366, -116909.32415835, ...,\n",
       "         -117164.13404514, -116411.64021631, -116343.64620967],\n",
       "        [-117497.39855497, -117118.13415505, -116378.91726243, ...,\n",
       "         -117518.31978778, -117025.59793301, -117489.6201479 ],\n",
       "        [-118357.18075719, -117726.32512168, -117172.85122548, ...,\n",
       "         -116577.26664272, -116550.84688078, -117258.14548232]],\n",
       "\n",
       "       [[-134306.1339028 , -134295.40506547, -134186.37325601, ...,\n",
       "         -133747.8320298 , -133808.3158503 , -133941.21932283],\n",
       "        [-133904.20483401, -133802.01265836, -133881.54016513, ...,\n",
       "         -133841.17291464, -133904.47305494, -133750.6483496 ],\n",
       "        [-133645.63985415, -133848.68310078, -133907.28937474, ...,\n",
       "         -133838.75892624, -133663.47654623, -133694.45606404],\n",
       "        ...,\n",
       "        [-123148.54540212, -123101.20440736, -122812.86690389, ...,\n",
       "         -122946.57503922, -122651.66612287, -122715.77092597],\n",
       "        [-123125.07607044, -122892.52852112, -122603.65457578, ...,\n",
       "         -122726.36565284, -122593.86451171, -122839.0184449 ],\n",
       "        [-123074.24820355, -122797.17597928, -122637.8527448 , ...,\n",
       "         -122477.59073706, -122560.33689503, -122869.72974178]],\n",
       "\n",
       "       [[-252615.43722337, -252775.96745205, -252440.95950615, ...,\n",
       "         -247143.05962837, -247156.87300645, -247603.99730253],\n",
       "        [-247619.82233761, -247154.99545991, -247222.05069328, ...,\n",
       "         -245096.93623745, -245605.88545869, -245307.08733882],\n",
       "        [-244456.1564274 , -245089.02371991, -245568.87096988, ...,\n",
       "         -245765.20869317, -245152.32386021, -244933.72379943],\n",
       "        ...,\n",
       "        [-248673.93060612, -249061.77807591, -248211.11538543, ...,\n",
       "         -248034.22367981, -246857.00200284, -246503.75503346],\n",
       "        [-248409.73298666, -248043.61141248, -246869.34016577, ...,\n",
       "         -247934.17727163, -246940.41871314, -247400.01528263],\n",
       "        [-248901.51606816, -248034.76012167, -247016.99578965, ...,\n",
       "         -247497.51359195, -247208.50553614, -248196.22912362]]])"
      ]
     },
     "execution_count": 48,
     "metadata": {},
     "output_type": "execute_result"
    }
   ],
   "source": [
    "red_data"
   ]
  },
  {
   "cell_type": "markdown",
   "id": "bcc79394",
   "metadata": {},
   "source": []
  },
  {
   "cell_type": "code",
   "execution_count": 49,
   "id": "9b18cd87",
   "metadata": {},
   "outputs": [
    {
     "data": {
      "text/plain": [
       "array([[[-163754.78074012, -163707.17152443, -163406.76407895, ...,\n",
       "         -163229.20182099, -163333.67387458, -163608.33211044],\n",
       "        [-163470.46655064, -163230.14059426, -163333.13743271, ...,\n",
       "         -163501.71428939, -163750.48920518, -163600.68781384],\n",
       "        [-163231.48169893, -163495.00876606, -163742.30846671, ...,\n",
       "         -163607.25922671, -163320.39693837, -163129.15541281],\n",
       "        ...,\n",
       "        [-153583.44061177, -153795.46925968, -153552.46109396, ...,\n",
       "         -153676.64738615, -153344.32164959, -153169.57571144],\n",
       "        [-153728.95046818, -153667.52787441, -153333.72692272, ...,\n",
       "         -153473.60413952, -153189.96050238, -153278.47341042],\n",
       "        [-153741.42274158, -153466.22806385, -153172.79436264, ...,\n",
       "         -153254.86996828, -153138.32797269, -153413.12031902]],\n",
       "\n",
       "       [[-164622.07312847, -164571.24526158, -164279.82321737, ...,\n",
       "         -164097.96942448, -164195.19951286, -164471.1988534 ],\n",
       "        [-164334.40617733, -164090.59334881, -164200.56393153, ...,\n",
       "         -164346.34200887, -164582.77876172, -164426.13773658],\n",
       "        [-164084.96070921, -164334.1379564 , -164576.20734885, ...,\n",
       "         -164456.84903346, -164172.53484399, -163983.97552776],\n",
       "        ...,\n",
       "        [-151114.73514017, -151337.76084635, -151102.79930863, ...,\n",
       "         -151234.22756603, -150914.64232381, -150755.72142073],\n",
       "        [-151292.96795046, -151240.53075797, -150917.99508548, ...,\n",
       "         -151051.97144174, -150767.5231418 , -150867.70366045],\n",
       "        [-151344.86870108, -151085.36494796, -150790.45603162, ...,\n",
       "         -150880.84648619, -150770.87590347, -151032.12309267]],\n",
       "\n",
       "       [[-135115.89290093, -134895.28118316, -135855.24390402, ...,\n",
       "         -136491.4639582 , -136496.15782454, -135558.72566208],\n",
       "        [-135454.2536085 , -136484.6243244 , -136429.50492257, ...,\n",
       "         -135925.11545719, -134921.03039277, -135096.44688325],\n",
       "        [-136556.10520316, -135827.61714788, -134832.38337426, ...,\n",
       "         -134431.39307873, -135277.63012381, -136185.02154172],\n",
       "        ...,\n",
       "        [-126142.1592405 , -125011.07156409, -125689.53641528, ...,\n",
       "         -125101.7302396 , -126401.66299363, -127359.47994703],\n",
       "        [-125228.59874113, -125066.05685545, -126358.47942334, ...,\n",
       "         -125748.00857878, -127086.6992577 , -127035.20083847],\n",
       "        [-124877.63164969, -125746.80158458, -127092.3318973 , ...,\n",
       "         -126606.44967633, -127347.14178409, -126438.94570338]],\n",
       "\n",
       "       ...,\n",
       "\n",
       "       [[-120892.00268889, -120790.07873417, -121141.98459887, ...,\n",
       "         -121476.32199244, -121496.57267291, -121149.89711641],\n",
       "        [-121042.60874302, -121431.39498608, -121413.69240447, ...,\n",
       "         -121839.76135728, -121453.92554449, -121494.29279498],\n",
       "        [-121953.62114353, -121680.57223327, -121290.31077508, ...,\n",
       "         -120519.30970184, -120819.04659498, -121163.30816308],\n",
       "        ...,\n",
       "        [-117489.2178165 , -116863.05604733, -117159.8425102 , ...,\n",
       "         -116325.67540713, -116975.84294985, -117571.56164307],\n",
       "        [-116539.98393297, -116342.30510501, -116996.49596173, ...,\n",
       "         -116841.19604125, -117557.48004406, -117603.74815509],\n",
       "        [-116357.45958775, -116743.429511  , -117499.00788057, ...,\n",
       "         -117647.19994631, -118162.98880136, -117788.41826778]],\n",
       "\n",
       "       [[-132667.30399934, -132681.25148788, -132861.63006564, ...,\n",
       "         -132926.13720013, -132878.52798444, -132706.73247656],\n",
       "        [-132768.15507032, -132928.81940947, -132876.24810651, ...,\n",
       "         -132750.72070965, -132587.77649257, -132656.9774934 ],\n",
       "        [-132858.41141443, -132713.8403313 , -132559.74740502, ...,\n",
       "         -132437.57276983, -132591.12925424, -132723.63039537],\n",
       "        ...,\n",
       "        [-122735.75338551, -122516.88510381, -122722.47644931, ...,\n",
       "         -122518.36031894, -122808.30714802, -122990.1609409 ],\n",
       "        [-122498.51196987, -122506.4244874 , -122807.36837475, ...,\n",
       "         -122677.14711155, -122974.4700163 , -122920.8258296 ],\n",
       "        [-122447.95232391, -122670.44158822, -122953.14645209, ...,\n",
       "         -122884.21367219, -123005.44953411, -122769.54922313]],\n",
       "\n",
       "       [[-250189.78121159, -249873.81695197, -250354.33475427, ...,\n",
       "         -249825.93951535, -249995.45514529, -249513.05979646],\n",
       "        [-249218.28499058, -249887.49621957, -250019.72913977, ...,\n",
       "         -250179.85703705, -249528.75072107, -249479.26395884],\n",
       "        [-250537.66376229, -250240.47496801, -249581.32202403, ...,\n",
       "         -249362.31963185, -249742.12047364, -250360.77205667],\n",
       "        ...,\n",
       "        [-248685.32999579, -247529.9683249 , -247694.79008851, ...,\n",
       "         -247972.39875464, -248830.03518939, -249896.34751038],\n",
       "        [-248516.88724958, -247969.85065578, -248843.04390467, ...,\n",
       "         -248154.11843707, -249316.9902941 , -249662.72707733],\n",
       "        [-247689.29155937, -248036.23533681, -249222.30830459, ...,\n",
       "         -250026.03233171, -250968.1583605 , -250539.94364023]]])"
      ]
     },
     "execution_count": 49,
     "metadata": {},
     "output_type": "execute_result"
    }
   ],
   "source": [
    "white_data"
   ]
  },
  {
   "cell_type": "code",
   "execution_count": 50,
   "id": "9dcb312e",
   "metadata": {},
   "outputs": [
    {
     "data": {
      "text/plain": [
       "(8, 125, 250)"
      ]
     },
     "execution_count": 50,
     "metadata": {},
     "output_type": "execute_result"
    }
   ],
   "source": [
    "red_data.shape"
   ]
  },
  {
   "cell_type": "code",
   "execution_count": 51,
   "id": "2f762625",
   "metadata": {},
   "outputs": [
    {
     "data": {
      "text/plain": [
       "(8, 125, 250)"
      ]
     },
     "execution_count": 51,
     "metadata": {},
     "output_type": "execute_result"
    }
   ],
   "source": [
    "white_data.shape"
   ]
  },
  {
   "cell_type": "code",
   "execution_count": 52,
   "id": "ec598776",
   "metadata": {},
   "outputs": [],
   "source": [
    "# Common Spatial Pattern implementation in Python, used to build spatial filters for identifying task-related activity.\n",
    "import numpy as np\n",
    "import scipy.linalg as la"
   ]
  },
  {
   "cell_type": "code",
   "execution_count": 57,
   "id": "19ad6b7a",
   "metadata": {},
   "outputs": [],
   "source": [
    "# covarianceMatrix takes a matrix A and returns the covariance matrix, scaled by the variance\n",
    "def covarianceMatrix(A):\n",
    "    Ca = np.dot(A,np.transpose(A))/np.trace(np.dot(A,np.transpose(A)))\n",
    "    return Ca\n"
   ]
  },
  {
   "cell_type": "code",
   "execution_count": 58,
   "id": "edda7421",
   "metadata": {},
   "outputs": [],
   "source": [
    "# spatialFilter returns the spatial filter SFa for mean covariance matrices Ra and Rb\n",
    "def spatialFilter(Ra,Rb):\n",
    "    R = Ra + Rb\n",
    "    E,U = la.eig(R)\n",
    "\n",
    "    # CSP requires the eigenvalues E and eigenvector U be sorted in descending order\n",
    "    ord = np.argsort(E)\n",
    "    ord = ord[::-1] # argsort gives ascending order, flip to get descending\n",
    "    E = E[ord]\n",
    "    U = U[:,ord]\n",
    "\n",
    "    # Find the whitening transformation matrix\n",
    "    P = np.dot(np.sqrt(la.inv(np.diag(E))),np.transpose(U))\n",
    "\n",
    "    # The mean covariance matrices may now be transformed\n",
    "    Sa = np.dot(P,np.dot(Ra,np.transpose(P)))\n",
    "    Sb = np.dot(P,np.dot(Rb,np.transpose(P)))\n",
    "\n",
    "    # Find and sort the generalized eigenvalues and eigenvector\n",
    "    E1,U1 = la.eig(Sa,Sb)\n",
    "    ord1 = np.argsort(E1)\n",
    "    ord1 = ord1[::-1]\n",
    "    E1 = E1[ord1]\n",
    "    U1 = U1[:,ord1]\n",
    "\n",
    "    # The projection matrix (the spatial filter) may now be obtained\n",
    "    SFa = np.dot(np.transpose(U1),P)\n",
    "    return SFa.astype(np.float32)"
   ]
  },
  {
   "cell_type": "code",
   "execution_count": 55,
   "id": "5bc1933d",
   "metadata": {},
   "outputs": [],
   "source": [
    "# CSP takes any number of arguments, but each argument must be a collection of trials associated with a task\n",
    "# That is, for N tasks, N arrays are passed to CSP each with dimensionality (# of trials of task N) x (feature vector)\n",
    "# Trials may be of any dimension, provided that each trial for each task has the same dimensionality,\n",
    "# otherwise there can be no spatial filtering since the trials cannot be compared\n",
    "def CSP(*tasks):\n",
    "    if len(tasks) < 2:\n",
    "        print(\"Must have at least 2 tasks for filtering.\")\n",
    "        return (None,) * len(tasks)\n",
    "    else:\n",
    "        filters = ()\n",
    "        # CSP algorithm\n",
    "        # For each task x, find the mean variances Rx and not_Rx, which will be used to compute spatial filter SFx\n",
    "        iterator = range(0,len(tasks))\n",
    "        for x in iterator:\n",
    "            # Find Rx\n",
    "            Rx = covarianceMatrix(tasks[x][0])\n",
    "            for t in range(1,len(tasks[x])):\n",
    "                Rx += covarianceMatrix(tasks[x][t])\n",
    "            Rx = Rx / len(tasks[x])\n",
    "\n",
    "            # Find not_Rx\n",
    "            count = 0\n",
    "            not_Rx = Rx * 0\n",
    "            for not_x in [element for element in iterator if element != x]:\n",
    "                for t in range(0,len(tasks[not_x])):\n",
    "                    not_Rx += covarianceMatrix(tasks[not_x][t])\n",
    "                    count += 1\n",
    "            not_Rx = not_Rx / count\n",
    "\n",
    "            # Find the spatial filter SFx\n",
    "            SFx = spatialFilter(Rx,not_Rx)\n",
    "            filters += (SFx,)\n",
    "\n",
    "            # Special case: only two tasks, no need to compute any more mean variances\n",
    "            if len(tasks) == 2:\n",
    "                filters += (spatialFilter(not_Rx,Rx),)\n",
    "                break\n",
    "        return filters\n"
   ]
  },
  {
   "cell_type": "code",
   "execution_count": 60,
   "id": "df4623b7",
   "metadata": {},
   "outputs": [
    {
     "name": "stderr",
     "output_type": "stream",
     "text": [
      "c:\\python37\\lib\\site-packages\\ipykernel_launcher.py:28: ComplexWarning: Casting complex values to real discards the imaginary part\n"
     ]
    }
   ],
   "source": [
    "filters = CSP(red_data, white_data)"
   ]
  },
  {
   "cell_type": "code",
   "execution_count": 61,
   "id": "fbdeec48",
   "metadata": {},
   "outputs": [
    {
     "data": {
      "text/plain": [
       "(array([[ -34.457554 ,   -1.6461011,   52.24579  , ...,   38.365223 ,\n",
       "           43.88919  ,   22.171124 ],\n",
       "        [ -14.979949 ,   18.701113 ,   28.92419  , ..., -114.15628  ,\n",
       "          -35.852467 ,  -41.5106   ],\n",
       "        [ 142.72195  ,  -16.068363 ,   -4.4746323, ...,   59.398003 ,\n",
       "           -3.9293761,  -80.977745 ],\n",
       "        ...,\n",
       "        [   2.8558092,    7.957565 ,   -7.2559814, ...,    9.368795 ,\n",
       "          -41.067802 ,  -30.551947 ],\n",
       "        [  14.63421  ,   14.696813 ,    4.5571713, ...,   38.15154  ,\n",
       "            2.676542 ,   66.14708  ],\n",
       "        [   3.6936464,   -5.5124745,   16.268478 , ...,  -20.659147 ,\n",
       "          -46.17239  ,  -10.835392 ]], dtype=float32),\n",
       " array([[  -3.6936464,    5.5124745,  -16.268478 , ...,   20.659147 ,\n",
       "           46.17239  ,   10.835392 ],\n",
       "        [  14.63421  ,   14.696813 ,    4.5571713, ...,   38.15154  ,\n",
       "            2.676542 ,   66.14708  ],\n",
       "        [   2.8558092,    7.957565 ,   -7.2559814, ...,    9.368795 ,\n",
       "          -41.067802 ,  -30.551947 ],\n",
       "        ...,\n",
       "        [-142.72195  ,   16.068363 ,    4.4746323, ...,  -59.398003 ,\n",
       "            3.9293761,   80.977745 ],\n",
       "        [ -14.979949 ,   18.701113 ,   28.92419  , ..., -114.15628  ,\n",
       "          -35.852467 ,  -41.5106   ],\n",
       "        [  34.457554 ,    1.6461011,  -52.24579  , ...,  -38.365223 ,\n",
       "          -43.88919  ,  -22.171124 ]], dtype=float32))"
      ]
     },
     "execution_count": 61,
     "metadata": {},
     "output_type": "execute_result"
    }
   ],
   "source": [
    "filters"
   ]
  },
  {
   "cell_type": "code",
   "execution_count": 62,
   "id": "694eabd0",
   "metadata": {},
   "outputs": [
    {
     "data": {
      "text/plain": [
       "array([[ -34.457554 ,   -1.6461011,   52.24579  , ...,   38.365223 ,\n",
       "          43.88919  ,   22.171124 ],\n",
       "       [ -14.979949 ,   18.701113 ,   28.92419  , ..., -114.15628  ,\n",
       "         -35.852467 ,  -41.5106   ],\n",
       "       [ 142.72195  ,  -16.068363 ,   -4.4746323, ...,   59.398003 ,\n",
       "          -3.9293761,  -80.977745 ],\n",
       "       ...,\n",
       "       [   2.8558092,    7.957565 ,   -7.2559814, ...,    9.368795 ,\n",
       "         -41.067802 ,  -30.551947 ],\n",
       "       [  14.63421  ,   14.696813 ,    4.5571713, ...,   38.15154  ,\n",
       "           2.676542 ,   66.14708  ],\n",
       "       [   3.6936464,   -5.5124745,   16.268478 , ...,  -20.659147 ,\n",
       "         -46.17239  ,  -10.835392 ]], dtype=float32)"
      ]
     },
     "execution_count": 62,
     "metadata": {},
     "output_type": "execute_result"
    }
   ],
   "source": [
    "filters[0]"
   ]
  },
  {
   "cell_type": "code",
   "execution_count": 64,
   "id": "a57cb42a",
   "metadata": {},
   "outputs": [
    {
     "data": {
      "text/plain": [
       "(125, 125)"
      ]
     },
     "execution_count": 64,
     "metadata": {},
     "output_type": "execute_result"
    }
   ],
   "source": [
    "filters[0].shape"
   ]
  },
  {
   "cell_type": "code",
   "execution_count": 65,
   "id": "823369c8",
   "metadata": {},
   "outputs": [
    {
     "data": {
      "text/plain": [
       "(125, 125)"
      ]
     },
     "execution_count": 65,
     "metadata": {},
     "output_type": "execute_result"
    }
   ],
   "source": [
    "filters[1].shape"
   ]
  },
  {
   "cell_type": "code",
   "execution_count": null,
   "id": "bb8ae358",
   "metadata": {},
   "outputs": [],
   "source": [
    "class1 = filters[0]\n",
    "class2 = filters[1]"
   ]
  }
 ],
 "metadata": {
  "kernelspec": {
   "display_name": "Python 3 (ipykernel)",
   "language": "python",
   "name": "python3"
  },
  "language_info": {
   "codemirror_mode": {
    "name": "ipython",
    "version": 3
   },
   "file_extension": ".py",
   "mimetype": "text/x-python",
   "name": "python",
   "nbconvert_exporter": "python",
   "pygments_lexer": "ipython3",
   "version": "3.7.9"
  }
 },
 "nbformat": 4,
 "nbformat_minor": 5
}
